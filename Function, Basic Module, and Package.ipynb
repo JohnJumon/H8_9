{
 "cells": [
  {
   "cell_type": "markdown",
   "id": "072b0b71",
   "metadata": {},
   "source": []
  },
  {
   "cell_type": "code",
   "execution_count": 1,
   "id": "37367266",
   "metadata": {},
   "outputs": [],
   "source": [
    "def greeting():\n",
    "    \"Fungsi ini akan menampilkan pesan default yaitu Hello World 10x\"\n",
    "    print(\"Hello world\" * 10)"
   ]
  },
  {
   "cell_type": "code",
   "execution_count": 2,
   "id": "0e8f7f8d",
   "metadata": {},
   "outputs": [
    {
     "data": {
      "text/plain": [
       "<function __main__.greeting()>"
      ]
     },
     "execution_count": 2,
     "metadata": {},
     "output_type": "execute_result"
    }
   ],
   "source": [
    "greeting"
   ]
  },
  {
   "cell_type": "code",
   "execution_count": 3,
   "id": "4be508d4",
   "metadata": {},
   "outputs": [
    {
     "name": "stdout",
     "output_type": "stream",
     "text": [
      "Hello worldHello worldHello worldHello worldHello worldHello worldHello worldHello worldHello worldHello world\n"
     ]
    }
   ],
   "source": [
    "greeting()"
   ]
  },
  {
   "cell_type": "code",
   "execution_count": 4,
   "id": "eb98b579",
   "metadata": {},
   "outputs": [
    {
     "data": {
      "text/plain": [
       "'Fungsi ini akan menampilkan pesan default yaitu Hello World 10x'"
      ]
     },
     "execution_count": 4,
     "metadata": {},
     "output_type": "execute_result"
    }
   ],
   "source": [
    "greeting.__doc__"
   ]
  },
  {
   "cell_type": "code",
   "execution_count": 5,
   "id": "f2f7556b",
   "metadata": {},
   "outputs": [
    {
     "data": {
      "text/plain": [
       "['__annotations__',\n",
       " '__call__',\n",
       " '__class__',\n",
       " '__closure__',\n",
       " '__code__',\n",
       " '__defaults__',\n",
       " '__delattr__',\n",
       " '__dict__',\n",
       " '__dir__',\n",
       " '__doc__',\n",
       " '__eq__',\n",
       " '__format__',\n",
       " '__ge__',\n",
       " '__get__',\n",
       " '__getattribute__',\n",
       " '__globals__',\n",
       " '__gt__',\n",
       " '__hash__',\n",
       " '__init__',\n",
       " '__init_subclass__',\n",
       " '__kwdefaults__',\n",
       " '__le__',\n",
       " '__lt__',\n",
       " '__module__',\n",
       " '__name__',\n",
       " '__ne__',\n",
       " '__new__',\n",
       " '__qualname__',\n",
       " '__reduce__',\n",
       " '__reduce_ex__',\n",
       " '__repr__',\n",
       " '__setattr__',\n",
       " '__sizeof__',\n",
       " '__str__',\n",
       " '__subclasshook__']"
      ]
     },
     "execution_count": 5,
     "metadata": {},
     "output_type": "execute_result"
    }
   ],
   "source": [
    "dir(greeting)"
   ]
  },
  {
   "cell_type": "code",
   "execution_count": 8,
   "id": "a2f3d30a",
   "metadata": {},
   "outputs": [],
   "source": [
    "def my_function(p, l): #parameter\n",
    "    \"Function untuk menghitung luas\"\n",
    "    print(p * l)\n",
    "    # return None"
   ]
  },
  {
   "cell_type": "code",
   "execution_count": 9,
   "id": "f065b00b",
   "metadata": {},
   "outputs": [
    {
     "ename": "TypeError",
     "evalue": "my_function() missing 2 required positional arguments: 'p' and 'l'",
     "output_type": "error",
     "traceback": [
      "\u001b[1;31m---------------------------------------------------------------------------\u001b[0m",
      "\u001b[1;31mTypeError\u001b[0m                                 Traceback (most recent call last)",
      "Input \u001b[1;32mIn [9]\u001b[0m, in \u001b[0;36m<cell line: 1>\u001b[1;34m()\u001b[0m\n\u001b[1;32m----> 1\u001b[0m \u001b[43mmy_function\u001b[49m\u001b[43m(\u001b[49m\u001b[43m)\u001b[49m\n",
      "\u001b[1;31mTypeError\u001b[0m: my_function() missing 2 required positional arguments: 'p' and 'l'"
     ]
    }
   ],
   "source": [
    "my_function()"
   ]
  },
  {
   "cell_type": "code",
   "execution_count": 10,
   "id": "4d71528c",
   "metadata": {},
   "outputs": [
    {
     "name": "stdout",
     "output_type": "stream",
     "text": [
      "16\n"
     ]
    }
   ],
   "source": [
    "my_function(2, 8)"
   ]
  },
  {
   "cell_type": "code",
   "execution_count": 11,
   "id": "0476d200",
   "metadata": {},
   "outputs": [
    {
     "name": "stdout",
     "output_type": "stream",
     "text": [
      "16\n",
      "None\n"
     ]
    }
   ],
   "source": [
    "print(my_function(2,8))"
   ]
  },
  {
   "cell_type": "code",
   "execution_count": 12,
   "id": "2f64b687",
   "metadata": {},
   "outputs": [
    {
     "data": {
      "text/plain": [
       "'Function untuk menghitung luas'"
      ]
     },
     "execution_count": 12,
     "metadata": {},
     "output_type": "execute_result"
    }
   ],
   "source": [
    "my_function.__doc__"
   ]
  },
  {
   "cell_type": "code",
   "execution_count": 13,
   "id": "b8eb51de",
   "metadata": {},
   "outputs": [
    {
     "name": "stdout",
     "output_type": "stream",
     "text": [
      "Values inside the function :  [10, 20, 30, [1, 2, 3, 4]]\n",
      "Values outside the function :  [10, 20, 30, [1, 2, 3, 4]]\n"
     ]
    }
   ],
   "source": [
    "def changeme(myList):\n",
    "    \"This changes a passed list into this function\"\n",
    "    myList.append([1, 2, 3, 4])\n",
    "    print(\"Values inside the function : \", myList)\n",
    "    return\n",
    "\n",
    "myList = [10, 20, 30]\n",
    "changeme(myList)\n",
    "print(\"Values outside the function : \", myList)"
   ]
  },
  {
   "cell_type": "code",
   "execution_count": 14,
   "id": "9ba2a86b",
   "metadata": {},
   "outputs": [
    {
     "name": "stdout",
     "output_type": "stream",
     "text": [
      "Values inside the function :  holla777\n",
      "Values outside the function :  holla\n"
     ]
    }
   ],
   "source": [
    "def changeme(myStr):\n",
    "    \"This changes a passed str into this function\"\n",
    "    myStr += \"777\"\n",
    "    print(\"Values inside the function : \", myStr)\n",
    "    return\n",
    "\n",
    "myStr = \"holla\"\n",
    "changeme(myStr)\n",
    "print(\"Values outside the function : \", myStr)"
   ]
  },
  {
   "cell_type": "code",
   "execution_count": 15,
   "id": "fc7ace00",
   "metadata": {},
   "outputs": [
    {
     "name": "stdout",
     "output_type": "stream",
     "text": [
      "Values inside the function :  [1, 2, 3, 4]\n",
      "Values outside the function :  [10, 20, 30]\n"
     ]
    }
   ],
   "source": [
    "def changeme(myList):\n",
    "    \"This changes a passed list into this function\"\n",
    "    myList = [1, 2, 3, 4]\n",
    "    print(\"Values inside the function : \", myList)\n",
    "    return\n",
    "\n",
    "myList = [10, 20, 30]\n",
    "changeme(myList)\n",
    "print(\"Values outside the function : \", myList)"
   ]
  },
  {
   "cell_type": "code",
   "execution_count": 17,
   "id": "a42907e1",
   "metadata": {},
   "outputs": [
    {
     "name": "stdout",
     "output_type": "stream",
     "text": [
      "Name:  ari\n",
      "Age:  45\n"
     ]
    }
   ],
   "source": [
    "def print_info(name, age):\n",
    "    print(\"Name: \", name)\n",
    "    print(\"Age: \", age)\n",
    "    return\n",
    "\n",
    "print_info(\"ari\", 45)"
   ]
  },
  {
   "cell_type": "code",
   "execution_count": 18,
   "id": "d0ec6f5f",
   "metadata": {},
   "outputs": [
    {
     "name": "stdout",
     "output_type": "stream",
     "text": [
      "Name:  45\n",
      "Age:  ari\n"
     ]
    }
   ],
   "source": [
    "print_info(45, \"ari\")"
   ]
  },
  {
   "cell_type": "code",
   "execution_count": 19,
   "id": "91b00426",
   "metadata": {},
   "outputs": [
    {
     "name": "stdout",
     "output_type": "stream",
     "text": [
      "Name:  ari\n",
      "Age:  45\n"
     ]
    }
   ],
   "source": [
    "print_info(name=\"ari\", age=45)"
   ]
  },
  {
   "cell_type": "code",
   "execution_count": 20,
   "id": "ad2c0e12",
   "metadata": {},
   "outputs": [
    {
     "name": "stdout",
     "output_type": "stream",
     "text": [
      "Name:  ari\n",
      "Age:  45\n"
     ]
    }
   ],
   "source": [
    "print_info(age=45, name=\"ari\")"
   ]
  },
  {
   "cell_type": "code",
   "execution_count": 21,
   "id": "d87ebc0e",
   "metadata": {},
   "outputs": [
    {
     "ename": "TypeError",
     "evalue": "print_info() got an unexpected keyword argument 'nama'",
     "output_type": "error",
     "traceback": [
      "\u001b[1;31m---------------------------------------------------------------------------\u001b[0m",
      "\u001b[1;31mTypeError\u001b[0m                                 Traceback (most recent call last)",
      "Input \u001b[1;32mIn [21]\u001b[0m, in \u001b[0;36m<cell line: 1>\u001b[1;34m()\u001b[0m\n\u001b[1;32m----> 1\u001b[0m \u001b[43mprint_info\u001b[49m\u001b[43m(\u001b[49m\u001b[43mage\u001b[49m\u001b[38;5;241;43m=\u001b[39;49m\u001b[38;5;241;43m45\u001b[39;49m\u001b[43m,\u001b[49m\u001b[43m \u001b[49m\u001b[43mnama\u001b[49m\u001b[38;5;241;43m=\u001b[39;49m\u001b[38;5;124;43m\"\u001b[39;49m\u001b[38;5;124;43mari\u001b[39;49m\u001b[38;5;124;43m\"\u001b[39;49m\u001b[43m)\u001b[49m\n",
      "\u001b[1;31mTypeError\u001b[0m: print_info() got an unexpected keyword argument 'nama'"
     ]
    }
   ],
   "source": [
    "print_info(age=45, nama=\"ari\")"
   ]
  },
  {
   "cell_type": "code",
   "execution_count": 22,
   "id": "024c4baa",
   "metadata": {},
   "outputs": [],
   "source": [
    "def print_info(name, age=17):\n",
    "    print(\"Name: \", name)\n",
    "    print(\"Age: \", age)\n",
    "    return"
   ]
  },
  {
   "cell_type": "code",
   "execution_count": 24,
   "id": "76fea2a1",
   "metadata": {},
   "outputs": [
    {
     "name": "stdout",
     "output_type": "stream",
     "text": [
      "Name:  Ira\n",
      "Age:  17\n"
     ]
    }
   ],
   "source": [
    "print_info(\"Ira\")"
   ]
  },
  {
   "cell_type": "code",
   "execution_count": 25,
   "id": "a25f71aa",
   "metadata": {},
   "outputs": [
    {
     "name": "stdout",
     "output_type": "stream",
     "text": [
      "Output is: \n",
      "10\n"
     ]
    }
   ],
   "source": [
    "def print_info(arg1, *vartuple):\n",
    "    print(\"Output is: \")\n",
    "    print(arg1)\n",
    "    for var in vartuple:\n",
    "        print(var)\n",
    "    return\n",
    "\n",
    "print_info(10)"
   ]
  },
  {
   "cell_type": "code",
   "execution_count": 26,
   "id": "52ed79d7",
   "metadata": {},
   "outputs": [
    {
     "name": "stdout",
     "output_type": "stream",
     "text": [
      "Output is: \n",
      "70\n",
      "60\n",
      "50\n",
      "a\n"
     ]
    }
   ],
   "source": [
    "print_info(70,60,50,\"a\")"
   ]
  },
  {
   "cell_type": "code",
   "execution_count": 31,
   "id": "80995aec",
   "metadata": {},
   "outputs": [],
   "source": [
    "def buy(cust_name, **items):\n",
    "    print(\"Customer name: \", cust_name)\n",
    "    for key in items:\n",
    "        print(\"item ke-\",key,\": \", items[key])\n",
    "    return"
   ]
  },
  {
   "cell_type": "code",
   "execution_count": 32,
   "id": "05fc6707",
   "metadata": {},
   "outputs": [
    {
     "name": "stdout",
     "output_type": "stream",
     "text": [
      "Customer name:  Ani\n",
      "item ke- first :  egg\n",
      "item ke- second :  sugar\n",
      "item ke- third :  salt\n",
      "item ke- fourth :  baking powder\n"
     ]
    }
   ],
   "source": [
    "buy(\"Ani\", first=\"egg\", second=\"sugar\", third=\"salt\", fourth=\"baking powder\")"
   ]
  },
  {
   "cell_type": "code",
   "execution_count": 34,
   "id": "4a1e986c",
   "metadata": {},
   "outputs": [
    {
     "name": "stdout",
     "output_type": "stream",
     "text": [
      "20\n"
     ]
    }
   ],
   "source": [
    "def calculate_area(p, l):\n",
    "    print(p * l)\n",
    "\n",
    "area = lambda p, l : p * l\n",
    "print(area(10,2))"
   ]
  },
  {
   "cell_type": "code",
   "execution_count": 40,
   "id": "09aa632c",
   "metadata": {},
   "outputs": [
    {
     "name": "stdout",
     "output_type": "stream",
     "text": [
      "Value of total :  30\n",
      "Value of total :  30\n"
     ]
    }
   ],
   "source": [
    "sum = lambda arg1, arg2: (arg1 + arg2)\n",
    "\n",
    "def sum2(arg1, arg2):\n",
    "    return arg1 + arg2\n",
    "\n",
    "print(\"Value of total : \", sum(10,20))\n",
    "print(\"Value of total : \", sum2(10,20))"
   ]
  },
  {
   "cell_type": "code",
   "execution_count": 41,
   "id": "3d5298e7",
   "metadata": {},
   "outputs": [
    {
     "name": "stdout",
     "output_type": "stream",
     "text": [
      "Inside the function :  30\n",
      "Outside the function :  40\n"
     ]
    }
   ],
   "source": [
    "def sum(arg1, arg2):\n",
    "    total = arg1 + arg2\n",
    "    total2 = total + arg1\n",
    "    print(\"Inside the function : \", total)\n",
    "    return total2\n",
    "\n",
    "total = sum(10, 20)\n",
    "print(\"Outside the function : \", total)"
   ]
  },
  {
   "cell_type": "code",
   "execution_count": 42,
   "id": "20f9a465",
   "metadata": {},
   "outputs": [
    {
     "name": "stdout",
     "output_type": "stream",
     "text": [
      "Inside the function local total :  30\n",
      "Outside the function global total :  0\n"
     ]
    }
   ],
   "source": [
    "total = 0\n",
    "def sum(arg1, arg2):\n",
    "    total = arg1 + arg2\n",
    "    print(\"Inside the function local total : \",total)\n",
    "    return total\n",
    "\n",
    "sum(10, 20)\n",
    "print(\"Outside the function global total : \", total)"
   ]
  },
  {
   "cell_type": "code",
   "execution_count": 44,
   "id": "727bbd6b",
   "metadata": {},
   "outputs": [
    {
     "name": "stdout",
     "output_type": "stream",
     "text": [
      "50\n",
      "40\n"
     ]
    }
   ],
   "source": [
    "jumlahKucing = 20\n",
    "\n",
    "def jumlahHewan():\n",
    "    jumlahAnjing = 30\n",
    "    return jumlahKucing + jumlahAnjing\n",
    "\n",
    "def jumlahKelinci():\n",
    "    return jumlahKucing + jumlahKucing\n",
    "\n",
    "print(jumlahHewan())\n",
    "print(jumlahKelinci())"
   ]
  },
  {
   "cell_type": "code",
   "execution_count": 45,
   "id": "c93765c2",
   "metadata": {},
   "outputs": [
    {
     "name": "stdout",
     "output_type": "stream",
     "text": [
      "Hacktiv8-PTP Python for Data Science\n"
     ]
    }
   ],
   "source": [
    "import mod\n",
    "print(mod.s)"
   ]
  },
  {
   "cell_type": "code",
   "execution_count": 46,
   "id": "76749efe",
   "metadata": {},
   "outputs": [
    {
     "name": "stdout",
     "output_type": "stream",
     "text": [
      "[100, 200, 300]\n"
     ]
    }
   ],
   "source": [
    "print(mod.a)"
   ]
  },
  {
   "cell_type": "code",
   "execution_count": 47,
   "id": "4e42635e",
   "metadata": {},
   "outputs": [
    {
     "name": "stdout",
     "output_type": "stream",
     "text": [
      "<function foo at 0x000001AACC2269D0>\n"
     ]
    }
   ],
   "source": [
    "print(mod.foo)"
   ]
  },
  {
   "cell_type": "code",
   "execution_count": 48,
   "id": "3aa414c2",
   "metadata": {},
   "outputs": [
    {
     "name": "stdout",
     "output_type": "stream",
     "text": [
      "arg = Foo\n",
      "arg =  Foo\n",
      "None\n"
     ]
    }
   ],
   "source": [
    "print(mod.foo(\"Foo\"))"
   ]
  },
  {
   "cell_type": "code",
   "execution_count": 49,
   "id": "e3848481",
   "metadata": {},
   "outputs": [],
   "source": [
    "import pkg1.mod1, pkg1.mod2"
   ]
  },
  {
   "cell_type": "code",
   "execution_count": 50,
   "id": "cba8cf96",
   "metadata": {},
   "outputs": [
    {
     "name": "stdout",
     "output_type": "stream",
     "text": [
      "[mod1] foo()\n"
     ]
    }
   ],
   "source": [
    "pkg1.mod1.foo()"
   ]
  },
  {
   "cell_type": "code",
   "execution_count": 51,
   "id": "332d3ac0",
   "metadata": {},
   "outputs": [],
   "source": [
    "x = pkg1.mod2.Bar()"
   ]
  },
  {
   "cell_type": "code",
   "execution_count": 52,
   "id": "3ab391ea",
   "metadata": {},
   "outputs": [
    {
     "name": "stdout",
     "output_type": "stream",
     "text": [
      "<pkg1.mod2.Bar object at 0x000001AACC2E7BE0>\n"
     ]
    }
   ],
   "source": [
    "print(x)"
   ]
  },
  {
   "cell_type": "code",
   "execution_count": null,
   "id": "2795ff78",
   "metadata": {},
   "outputs": [],
   "source": []
  }
 ],
 "metadata": {
  "kernelspec": {
   "display_name": "Python 3 (ipykernel)",
   "language": "python",
   "name": "python3"
  },
  "language_info": {
   "codemirror_mode": {
    "name": "ipython",
    "version": 3
   },
   "file_extension": ".py",
   "mimetype": "text/x-python",
   "name": "python",
   "nbconvert_exporter": "python",
   "pygments_lexer": "ipython3",
   "version": "3.9.12"
  },
  "toc": {
   "base_numbering": 1,
   "nav_menu": {},
   "number_sections": true,
   "sideBar": true,
   "skip_h1_title": false,
   "title_cell": "Table of Contents",
   "title_sidebar": "Contents",
   "toc_cell": false,
   "toc_position": {},
   "toc_section_display": true,
   "toc_window_display": false
  }
 },
 "nbformat": 4,
 "nbformat_minor": 5
}
