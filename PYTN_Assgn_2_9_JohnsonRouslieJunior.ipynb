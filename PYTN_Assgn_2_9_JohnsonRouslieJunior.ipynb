{
 "cells": [
  {
   "cell_type": "markdown",
   "id": "753606c7",
   "metadata": {},
   "source": [
    "**Nama**    : Johnson Rouslie Junior\\\n",
    "**Kelas**   : PYTN-KS09\\\n",
    "**Absensi** : 003"
   ]
  },
  {
   "cell_type": "markdown",
   "id": "35de9ccf",
   "metadata": {},
   "source": [
    "# Import Library"
   ]
  },
  {
   "cell_type": "code",
   "execution_count": 235,
   "id": "98d41bce",
   "metadata": {},
   "outputs": [],
   "source": [
    "import pandas as pd\n",
    "import numpy as np\n",
    "import statistics\n",
    "from scipy import stats\n",
    "import statsmodels.api as sm\n",
    "import matplotlib.pyplot as plt\n",
    "%matplotlib inline\n",
    "import seaborn as sns\n",
    "sns.set(color_codes=True)\n",
    "sns.set(rc={'figure.figsize':(5,5)})"
   ]
  },
  {
   "cell_type": "markdown",
   "id": "cb9b01d2",
   "metadata": {},
   "source": [
    "# Read CSV"
   ]
  },
  {
   "cell_type": "code",
   "execution_count": 184,
   "id": "75b65b4a",
   "metadata": {},
   "outputs": [
    {
     "data": {
      "text/html": [
       "<div>\n",
       "<style scoped>\n",
       "    .dataframe tbody tr th:only-of-type {\n",
       "        vertical-align: middle;\n",
       "    }\n",
       "\n",
       "    .dataframe tbody tr th {\n",
       "        vertical-align: top;\n",
       "    }\n",
       "\n",
       "    .dataframe thead th {\n",
       "        text-align: right;\n",
       "    }\n",
       "</style>\n",
       "<table border=\"1\" class=\"dataframe\">\n",
       "  <thead>\n",
       "    <tr style=\"text-align: right;\">\n",
       "      <th></th>\n",
       "      <th>Unnamed: 0</th>\n",
       "      <th>BOROUGH</th>\n",
       "      <th>NEIGHBORHOOD</th>\n",
       "      <th>BUILDING CLASS CATEGORY</th>\n",
       "      <th>TAX CLASS AT PRESENT</th>\n",
       "      <th>BLOCK</th>\n",
       "      <th>LOT</th>\n",
       "      <th>EASE-MENT</th>\n",
       "      <th>BUILDING CLASS AT PRESENT</th>\n",
       "      <th>ADDRESS</th>\n",
       "      <th>APARTMENT NUMBER</th>\n",
       "      <th>ZIP CODE</th>\n",
       "      <th>RESIDENTIAL UNITS</th>\n",
       "      <th>COMMERCIAL UNITS</th>\n",
       "      <th>TOTAL UNITS</th>\n",
       "      <th>LAND SQUARE FEET</th>\n",
       "      <th>GROSS SQUARE FEET</th>\n",
       "      <th>YEAR BUILT</th>\n",
       "      <th>TAX CLASS AT TIME OF SALE</th>\n",
       "      <th>BUILDING CLASS AT TIME OF SALE</th>\n",
       "      <th>SALE PRICE</th>\n",
       "      <th>SALE DATE</th>\n",
       "    </tr>\n",
       "  </thead>\n",
       "  <tbody>\n",
       "    <tr>\n",
       "      <th>0</th>\n",
       "      <td>4</td>\n",
       "      <td>1</td>\n",
       "      <td>ALPHABET CITY</td>\n",
       "      <td>07 RENTALS - WALKUP APARTMENTS</td>\n",
       "      <td>2A</td>\n",
       "      <td>392</td>\n",
       "      <td>6</td>\n",
       "      <td></td>\n",
       "      <td>C2</td>\n",
       "      <td>153 AVENUE B</td>\n",
       "      <td></td>\n",
       "      <td>10009</td>\n",
       "      <td>5</td>\n",
       "      <td>0</td>\n",
       "      <td>5</td>\n",
       "      <td>1633</td>\n",
       "      <td>6440</td>\n",
       "      <td>1900</td>\n",
       "      <td>2</td>\n",
       "      <td>C2</td>\n",
       "      <td>6625000</td>\n",
       "      <td>2017-07-19 00:00:00</td>\n",
       "    </tr>\n",
       "    <tr>\n",
       "      <th>1</th>\n",
       "      <td>5</td>\n",
       "      <td>1</td>\n",
       "      <td>ALPHABET CITY</td>\n",
       "      <td>07 RENTALS - WALKUP APARTMENTS</td>\n",
       "      <td>2</td>\n",
       "      <td>399</td>\n",
       "      <td>26</td>\n",
       "      <td></td>\n",
       "      <td>C7</td>\n",
       "      <td>234 EAST 4TH   STREET</td>\n",
       "      <td></td>\n",
       "      <td>10009</td>\n",
       "      <td>28</td>\n",
       "      <td>3</td>\n",
       "      <td>31</td>\n",
       "      <td>4616</td>\n",
       "      <td>18690</td>\n",
       "      <td>1900</td>\n",
       "      <td>2</td>\n",
       "      <td>C7</td>\n",
       "      <td>-</td>\n",
       "      <td>2016-12-14 00:00:00</td>\n",
       "    </tr>\n",
       "    <tr>\n",
       "      <th>2</th>\n",
       "      <td>6</td>\n",
       "      <td>1</td>\n",
       "      <td>ALPHABET CITY</td>\n",
       "      <td>07 RENTALS - WALKUP APARTMENTS</td>\n",
       "      <td>2</td>\n",
       "      <td>399</td>\n",
       "      <td>39</td>\n",
       "      <td></td>\n",
       "      <td>C7</td>\n",
       "      <td>197 EAST 3RD   STREET</td>\n",
       "      <td></td>\n",
       "      <td>10009</td>\n",
       "      <td>16</td>\n",
       "      <td>1</td>\n",
       "      <td>17</td>\n",
       "      <td>2212</td>\n",
       "      <td>7803</td>\n",
       "      <td>1900</td>\n",
       "      <td>2</td>\n",
       "      <td>C7</td>\n",
       "      <td>-</td>\n",
       "      <td>2016-12-09 00:00:00</td>\n",
       "    </tr>\n",
       "    <tr>\n",
       "      <th>3</th>\n",
       "      <td>7</td>\n",
       "      <td>1</td>\n",
       "      <td>ALPHABET CITY</td>\n",
       "      <td>07 RENTALS - WALKUP APARTMENTS</td>\n",
       "      <td>2B</td>\n",
       "      <td>402</td>\n",
       "      <td>21</td>\n",
       "      <td></td>\n",
       "      <td>C4</td>\n",
       "      <td>154 EAST 7TH STREET</td>\n",
       "      <td></td>\n",
       "      <td>10009</td>\n",
       "      <td>10</td>\n",
       "      <td>0</td>\n",
       "      <td>10</td>\n",
       "      <td>2272</td>\n",
       "      <td>6794</td>\n",
       "      <td>1913</td>\n",
       "      <td>2</td>\n",
       "      <td>C4</td>\n",
       "      <td>3936272</td>\n",
       "      <td>2016-09-23 00:00:00</td>\n",
       "    </tr>\n",
       "    <tr>\n",
       "      <th>4</th>\n",
       "      <td>8</td>\n",
       "      <td>1</td>\n",
       "      <td>ALPHABET CITY</td>\n",
       "      <td>07 RENTALS - WALKUP APARTMENTS</td>\n",
       "      <td>2A</td>\n",
       "      <td>404</td>\n",
       "      <td>55</td>\n",
       "      <td></td>\n",
       "      <td>C2</td>\n",
       "      <td>301 EAST 10TH   STREET</td>\n",
       "      <td></td>\n",
       "      <td>10009</td>\n",
       "      <td>6</td>\n",
       "      <td>0</td>\n",
       "      <td>6</td>\n",
       "      <td>2369</td>\n",
       "      <td>4615</td>\n",
       "      <td>1900</td>\n",
       "      <td>2</td>\n",
       "      <td>C2</td>\n",
       "      <td>8000000</td>\n",
       "      <td>2016-11-17 00:00:00</td>\n",
       "    </tr>\n",
       "  </tbody>\n",
       "</table>\n",
       "</div>"
      ],
      "text/plain": [
       "   Unnamed: 0  BOROUGH   NEIGHBORHOOD  \\\n",
       "0           4        1  ALPHABET CITY   \n",
       "1           5        1  ALPHABET CITY   \n",
       "2           6        1  ALPHABET CITY   \n",
       "3           7        1  ALPHABET CITY   \n",
       "4           8        1  ALPHABET CITY   \n",
       "\n",
       "                       BUILDING CLASS CATEGORY TAX CLASS AT PRESENT  BLOCK  \\\n",
       "0  07 RENTALS - WALKUP APARTMENTS                                2A    392   \n",
       "1  07 RENTALS - WALKUP APARTMENTS                                 2    399   \n",
       "2  07 RENTALS - WALKUP APARTMENTS                                 2    399   \n",
       "3  07 RENTALS - WALKUP APARTMENTS                                2B    402   \n",
       "4  07 RENTALS - WALKUP APARTMENTS                                2A    404   \n",
       "\n",
       "   LOT EASE-MENT BUILDING CLASS AT PRESENT                 ADDRESS  \\\n",
       "0    6                                  C2            153 AVENUE B   \n",
       "1   26                                  C7   234 EAST 4TH   STREET   \n",
       "2   39                                  C7   197 EAST 3RD   STREET   \n",
       "3   21                                  C4     154 EAST 7TH STREET   \n",
       "4   55                                  C2  301 EAST 10TH   STREET   \n",
       "\n",
       "  APARTMENT NUMBER  ZIP CODE  RESIDENTIAL UNITS  COMMERCIAL UNITS  \\\n",
       "0                      10009                  5                 0   \n",
       "1                      10009                 28                 3   \n",
       "2                      10009                 16                 1   \n",
       "3                      10009                 10                 0   \n",
       "4                      10009                  6                 0   \n",
       "\n",
       "   TOTAL UNITS LAND SQUARE FEET GROSS SQUARE FEET  YEAR BUILT  \\\n",
       "0            5             1633              6440        1900   \n",
       "1           31             4616             18690        1900   \n",
       "2           17             2212              7803        1900   \n",
       "3           10             2272              6794        1913   \n",
       "4            6             2369              4615        1900   \n",
       "\n",
       "   TAX CLASS AT TIME OF SALE BUILDING CLASS AT TIME OF SALE SALE PRICE  \\\n",
       "0                          2                             C2    6625000   \n",
       "1                          2                             C7        -     \n",
       "2                          2                             C7        -     \n",
       "3                          2                             C4    3936272   \n",
       "4                          2                             C2    8000000   \n",
       "\n",
       "             SALE DATE  \n",
       "0  2017-07-19 00:00:00  \n",
       "1  2016-12-14 00:00:00  \n",
       "2  2016-12-09 00:00:00  \n",
       "3  2016-09-23 00:00:00  \n",
       "4  2016-11-17 00:00:00  "
      ]
     },
     "execution_count": 184,
     "metadata": {},
     "output_type": "execute_result"
    }
   ],
   "source": [
    "df = pd.read_csv(\"dataset/nyc-rolling-sales.csv\")\n",
    "df.head()"
   ]
  },
  {
   "cell_type": "markdown",
   "id": "6c0b98af",
   "metadata": {},
   "source": [
    "# Exploratory & Cleaning Data"
   ]
  },
  {
   "cell_type": "markdown",
   "id": "821de966",
   "metadata": {},
   "source": [
    "Sesuai apa yang sudah diinfokan melalui tugas dan juga dari dataset [NYC Property Sales di Kaggle](https://www.kaggle.com/datasets/new-york-city/nyc-property-sales?datasetId=2648), ubah value pada BOROUGH menjadi sebuah string nama BOROUGH berdasarkan valuenya. Gunanya adalah agar value pada data tersebut bisa lebih mudah dibaca."
   ]
  },
  {
   "cell_type": "code",
   "execution_count": 185,
   "id": "9d2bdf8a",
   "metadata": {},
   "outputs": [
    {
     "name": "stderr",
     "output_type": "stream",
     "text": [
      "C:\\Users\\ASUS\\AppData\\Local\\Temp\\ipykernel_18096\\4211988922.py:1: SettingWithCopyWarning: \n",
      "A value is trying to be set on a copy of a slice from a DataFrame\n",
      "\n",
      "See the caveats in the documentation: https://pandas.pydata.org/pandas-docs/stable/user_guide/indexing.html#returning-a-view-versus-a-copy\n",
      "  df['BOROUGH'][df['BOROUGH'] == 1] = 'Manhattan'\n"
     ]
    },
    {
     "data": {
      "text/html": [
       "<div>\n",
       "<style scoped>\n",
       "    .dataframe tbody tr th:only-of-type {\n",
       "        vertical-align: middle;\n",
       "    }\n",
       "\n",
       "    .dataframe tbody tr th {\n",
       "        vertical-align: top;\n",
       "    }\n",
       "\n",
       "    .dataframe thead th {\n",
       "        text-align: right;\n",
       "    }\n",
       "</style>\n",
       "<table border=\"1\" class=\"dataframe\">\n",
       "  <thead>\n",
       "    <tr style=\"text-align: right;\">\n",
       "      <th></th>\n",
       "      <th>Unnamed: 0</th>\n",
       "      <th>BOROUGH</th>\n",
       "      <th>NEIGHBORHOOD</th>\n",
       "      <th>BUILDING CLASS CATEGORY</th>\n",
       "      <th>TAX CLASS AT PRESENT</th>\n",
       "      <th>BLOCK</th>\n",
       "      <th>LOT</th>\n",
       "      <th>EASE-MENT</th>\n",
       "      <th>BUILDING CLASS AT PRESENT</th>\n",
       "      <th>ADDRESS</th>\n",
       "      <th>APARTMENT NUMBER</th>\n",
       "      <th>ZIP CODE</th>\n",
       "      <th>RESIDENTIAL UNITS</th>\n",
       "      <th>COMMERCIAL UNITS</th>\n",
       "      <th>TOTAL UNITS</th>\n",
       "      <th>LAND SQUARE FEET</th>\n",
       "      <th>GROSS SQUARE FEET</th>\n",
       "      <th>YEAR BUILT</th>\n",
       "      <th>TAX CLASS AT TIME OF SALE</th>\n",
       "      <th>BUILDING CLASS AT TIME OF SALE</th>\n",
       "      <th>SALE PRICE</th>\n",
       "      <th>SALE DATE</th>\n",
       "    </tr>\n",
       "  </thead>\n",
       "  <tbody>\n",
       "    <tr>\n",
       "      <th>0</th>\n",
       "      <td>4</td>\n",
       "      <td>Manhattan</td>\n",
       "      <td>ALPHABET CITY</td>\n",
       "      <td>07 RENTALS - WALKUP APARTMENTS</td>\n",
       "      <td>2A</td>\n",
       "      <td>392</td>\n",
       "      <td>6</td>\n",
       "      <td></td>\n",
       "      <td>C2</td>\n",
       "      <td>153 AVENUE B</td>\n",
       "      <td></td>\n",
       "      <td>10009</td>\n",
       "      <td>5</td>\n",
       "      <td>0</td>\n",
       "      <td>5</td>\n",
       "      <td>1633</td>\n",
       "      <td>6440</td>\n",
       "      <td>1900</td>\n",
       "      <td>2</td>\n",
       "      <td>C2</td>\n",
       "      <td>6625000</td>\n",
       "      <td>2017-07-19 00:00:00</td>\n",
       "    </tr>\n",
       "    <tr>\n",
       "      <th>1</th>\n",
       "      <td>5</td>\n",
       "      <td>Manhattan</td>\n",
       "      <td>ALPHABET CITY</td>\n",
       "      <td>07 RENTALS - WALKUP APARTMENTS</td>\n",
       "      <td>2</td>\n",
       "      <td>399</td>\n",
       "      <td>26</td>\n",
       "      <td></td>\n",
       "      <td>C7</td>\n",
       "      <td>234 EAST 4TH   STREET</td>\n",
       "      <td></td>\n",
       "      <td>10009</td>\n",
       "      <td>28</td>\n",
       "      <td>3</td>\n",
       "      <td>31</td>\n",
       "      <td>4616</td>\n",
       "      <td>18690</td>\n",
       "      <td>1900</td>\n",
       "      <td>2</td>\n",
       "      <td>C7</td>\n",
       "      <td>-</td>\n",
       "      <td>2016-12-14 00:00:00</td>\n",
       "    </tr>\n",
       "    <tr>\n",
       "      <th>2</th>\n",
       "      <td>6</td>\n",
       "      <td>Manhattan</td>\n",
       "      <td>ALPHABET CITY</td>\n",
       "      <td>07 RENTALS - WALKUP APARTMENTS</td>\n",
       "      <td>2</td>\n",
       "      <td>399</td>\n",
       "      <td>39</td>\n",
       "      <td></td>\n",
       "      <td>C7</td>\n",
       "      <td>197 EAST 3RD   STREET</td>\n",
       "      <td></td>\n",
       "      <td>10009</td>\n",
       "      <td>16</td>\n",
       "      <td>1</td>\n",
       "      <td>17</td>\n",
       "      <td>2212</td>\n",
       "      <td>7803</td>\n",
       "      <td>1900</td>\n",
       "      <td>2</td>\n",
       "      <td>C7</td>\n",
       "      <td>-</td>\n",
       "      <td>2016-12-09 00:00:00</td>\n",
       "    </tr>\n",
       "    <tr>\n",
       "      <th>3</th>\n",
       "      <td>7</td>\n",
       "      <td>Manhattan</td>\n",
       "      <td>ALPHABET CITY</td>\n",
       "      <td>07 RENTALS - WALKUP APARTMENTS</td>\n",
       "      <td>2B</td>\n",
       "      <td>402</td>\n",
       "      <td>21</td>\n",
       "      <td></td>\n",
       "      <td>C4</td>\n",
       "      <td>154 EAST 7TH STREET</td>\n",
       "      <td></td>\n",
       "      <td>10009</td>\n",
       "      <td>10</td>\n",
       "      <td>0</td>\n",
       "      <td>10</td>\n",
       "      <td>2272</td>\n",
       "      <td>6794</td>\n",
       "      <td>1913</td>\n",
       "      <td>2</td>\n",
       "      <td>C4</td>\n",
       "      <td>3936272</td>\n",
       "      <td>2016-09-23 00:00:00</td>\n",
       "    </tr>\n",
       "    <tr>\n",
       "      <th>4</th>\n",
       "      <td>8</td>\n",
       "      <td>Manhattan</td>\n",
       "      <td>ALPHABET CITY</td>\n",
       "      <td>07 RENTALS - WALKUP APARTMENTS</td>\n",
       "      <td>2A</td>\n",
       "      <td>404</td>\n",
       "      <td>55</td>\n",
       "      <td></td>\n",
       "      <td>C2</td>\n",
       "      <td>301 EAST 10TH   STREET</td>\n",
       "      <td></td>\n",
       "      <td>10009</td>\n",
       "      <td>6</td>\n",
       "      <td>0</td>\n",
       "      <td>6</td>\n",
       "      <td>2369</td>\n",
       "      <td>4615</td>\n",
       "      <td>1900</td>\n",
       "      <td>2</td>\n",
       "      <td>C2</td>\n",
       "      <td>8000000</td>\n",
       "      <td>2016-11-17 00:00:00</td>\n",
       "    </tr>\n",
       "  </tbody>\n",
       "</table>\n",
       "</div>"
      ],
      "text/plain": [
       "   Unnamed: 0    BOROUGH   NEIGHBORHOOD  \\\n",
       "0           4  Manhattan  ALPHABET CITY   \n",
       "1           5  Manhattan  ALPHABET CITY   \n",
       "2           6  Manhattan  ALPHABET CITY   \n",
       "3           7  Manhattan  ALPHABET CITY   \n",
       "4           8  Manhattan  ALPHABET CITY   \n",
       "\n",
       "                       BUILDING CLASS CATEGORY TAX CLASS AT PRESENT  BLOCK  \\\n",
       "0  07 RENTALS - WALKUP APARTMENTS                                2A    392   \n",
       "1  07 RENTALS - WALKUP APARTMENTS                                 2    399   \n",
       "2  07 RENTALS - WALKUP APARTMENTS                                 2    399   \n",
       "3  07 RENTALS - WALKUP APARTMENTS                                2B    402   \n",
       "4  07 RENTALS - WALKUP APARTMENTS                                2A    404   \n",
       "\n",
       "   LOT EASE-MENT BUILDING CLASS AT PRESENT                 ADDRESS  \\\n",
       "0    6                                  C2            153 AVENUE B   \n",
       "1   26                                  C7   234 EAST 4TH   STREET   \n",
       "2   39                                  C7   197 EAST 3RD   STREET   \n",
       "3   21                                  C4     154 EAST 7TH STREET   \n",
       "4   55                                  C2  301 EAST 10TH   STREET   \n",
       "\n",
       "  APARTMENT NUMBER  ZIP CODE  RESIDENTIAL UNITS  COMMERCIAL UNITS  \\\n",
       "0                      10009                  5                 0   \n",
       "1                      10009                 28                 3   \n",
       "2                      10009                 16                 1   \n",
       "3                      10009                 10                 0   \n",
       "4                      10009                  6                 0   \n",
       "\n",
       "   TOTAL UNITS LAND SQUARE FEET GROSS SQUARE FEET  YEAR BUILT  \\\n",
       "0            5             1633              6440        1900   \n",
       "1           31             4616             18690        1900   \n",
       "2           17             2212              7803        1900   \n",
       "3           10             2272              6794        1913   \n",
       "4            6             2369              4615        1900   \n",
       "\n",
       "   TAX CLASS AT TIME OF SALE BUILDING CLASS AT TIME OF SALE SALE PRICE  \\\n",
       "0                          2                             C2    6625000   \n",
       "1                          2                             C7        -     \n",
       "2                          2                             C7        -     \n",
       "3                          2                             C4    3936272   \n",
       "4                          2                             C2    8000000   \n",
       "\n",
       "             SALE DATE  \n",
       "0  2017-07-19 00:00:00  \n",
       "1  2016-12-14 00:00:00  \n",
       "2  2016-12-09 00:00:00  \n",
       "3  2016-09-23 00:00:00  \n",
       "4  2016-11-17 00:00:00  "
      ]
     },
     "execution_count": 185,
     "metadata": {},
     "output_type": "execute_result"
    }
   ],
   "source": [
    "df['BOROUGH'][df['BOROUGH'] == 1] = 'Manhattan'\n",
    "df['BOROUGH'][df['BOROUGH'] == 2] = 'Bronx'\n",
    "df['BOROUGH'][df['BOROUGH'] == 3] = 'Brooklyn'\n",
    "df['BOROUGH'][df['BOROUGH'] == 4] = 'Queens'\n",
    "df['BOROUGH'][df['BOROUGH'] == 5] = 'Staten Island'\n",
    "df.head()"
   ]
  },
  {
   "cell_type": "markdown",
   "id": "5c4cece9",
   "metadata": {},
   "source": [
    "Sekarang akan dicek ada kolom apa saja yang ada didalam dataset ini dan jenis nilai yang tersimpan didalam kolom tersebut."
   ]
  },
  {
   "cell_type": "code",
   "execution_count": 186,
   "id": "a7dcc839",
   "metadata": {},
   "outputs": [
    {
     "data": {
      "text/html": [
       "<div>\n",
       "<style scoped>\n",
       "    .dataframe tbody tr th:only-of-type {\n",
       "        vertical-align: middle;\n",
       "    }\n",
       "\n",
       "    .dataframe tbody tr th {\n",
       "        vertical-align: top;\n",
       "    }\n",
       "\n",
       "    .dataframe thead th {\n",
       "        text-align: right;\n",
       "    }\n",
       "</style>\n",
       "<table border=\"1\" class=\"dataframe\">\n",
       "  <thead>\n",
       "    <tr style=\"text-align: right;\">\n",
       "      <th></th>\n",
       "      <th>Unnamed: 0</th>\n",
       "      <th>BOROUGH</th>\n",
       "      <th>NEIGHBORHOOD</th>\n",
       "      <th>BUILDING CLASS CATEGORY</th>\n",
       "      <th>TAX CLASS AT PRESENT</th>\n",
       "      <th>BLOCK</th>\n",
       "      <th>LOT</th>\n",
       "      <th>EASE-MENT</th>\n",
       "      <th>BUILDING CLASS AT PRESENT</th>\n",
       "      <th>ADDRESS</th>\n",
       "      <th>APARTMENT NUMBER</th>\n",
       "      <th>ZIP CODE</th>\n",
       "      <th>RESIDENTIAL UNITS</th>\n",
       "      <th>COMMERCIAL UNITS</th>\n",
       "      <th>TOTAL UNITS</th>\n",
       "      <th>LAND SQUARE FEET</th>\n",
       "      <th>GROSS SQUARE FEET</th>\n",
       "      <th>YEAR BUILT</th>\n",
       "      <th>TAX CLASS AT TIME OF SALE</th>\n",
       "      <th>BUILDING CLASS AT TIME OF SALE</th>\n",
       "      <th>SALE PRICE</th>\n",
       "      <th>SALE DATE</th>\n",
       "    </tr>\n",
       "  </thead>\n",
       "  <tbody>\n",
       "    <tr>\n",
       "      <th>0</th>\n",
       "      <td>4</td>\n",
       "      <td>Manhattan</td>\n",
       "      <td>ALPHABET CITY</td>\n",
       "      <td>07 RENTALS - WALKUP APARTMENTS</td>\n",
       "      <td>2A</td>\n",
       "      <td>392</td>\n",
       "      <td>6</td>\n",
       "      <td></td>\n",
       "      <td>C2</td>\n",
       "      <td>153 AVENUE B</td>\n",
       "      <td></td>\n",
       "      <td>10009</td>\n",
       "      <td>5</td>\n",
       "      <td>0</td>\n",
       "      <td>5</td>\n",
       "      <td>1633</td>\n",
       "      <td>6440</td>\n",
       "      <td>1900</td>\n",
       "      <td>2</td>\n",
       "      <td>C2</td>\n",
       "      <td>6625000</td>\n",
       "      <td>2017-07-19 00:00:00</td>\n",
       "    </tr>\n",
       "    <tr>\n",
       "      <th>1</th>\n",
       "      <td>5</td>\n",
       "      <td>Manhattan</td>\n",
       "      <td>ALPHABET CITY</td>\n",
       "      <td>07 RENTALS - WALKUP APARTMENTS</td>\n",
       "      <td>2</td>\n",
       "      <td>399</td>\n",
       "      <td>26</td>\n",
       "      <td></td>\n",
       "      <td>C7</td>\n",
       "      <td>234 EAST 4TH   STREET</td>\n",
       "      <td></td>\n",
       "      <td>10009</td>\n",
       "      <td>28</td>\n",
       "      <td>3</td>\n",
       "      <td>31</td>\n",
       "      <td>4616</td>\n",
       "      <td>18690</td>\n",
       "      <td>1900</td>\n",
       "      <td>2</td>\n",
       "      <td>C7</td>\n",
       "      <td>-</td>\n",
       "      <td>2016-12-14 00:00:00</td>\n",
       "    </tr>\n",
       "    <tr>\n",
       "      <th>2</th>\n",
       "      <td>6</td>\n",
       "      <td>Manhattan</td>\n",
       "      <td>ALPHABET CITY</td>\n",
       "      <td>07 RENTALS - WALKUP APARTMENTS</td>\n",
       "      <td>2</td>\n",
       "      <td>399</td>\n",
       "      <td>39</td>\n",
       "      <td></td>\n",
       "      <td>C7</td>\n",
       "      <td>197 EAST 3RD   STREET</td>\n",
       "      <td></td>\n",
       "      <td>10009</td>\n",
       "      <td>16</td>\n",
       "      <td>1</td>\n",
       "      <td>17</td>\n",
       "      <td>2212</td>\n",
       "      <td>7803</td>\n",
       "      <td>1900</td>\n",
       "      <td>2</td>\n",
       "      <td>C7</td>\n",
       "      <td>-</td>\n",
       "      <td>2016-12-09 00:00:00</td>\n",
       "    </tr>\n",
       "    <tr>\n",
       "      <th>3</th>\n",
       "      <td>7</td>\n",
       "      <td>Manhattan</td>\n",
       "      <td>ALPHABET CITY</td>\n",
       "      <td>07 RENTALS - WALKUP APARTMENTS</td>\n",
       "      <td>2B</td>\n",
       "      <td>402</td>\n",
       "      <td>21</td>\n",
       "      <td></td>\n",
       "      <td>C4</td>\n",
       "      <td>154 EAST 7TH STREET</td>\n",
       "      <td></td>\n",
       "      <td>10009</td>\n",
       "      <td>10</td>\n",
       "      <td>0</td>\n",
       "      <td>10</td>\n",
       "      <td>2272</td>\n",
       "      <td>6794</td>\n",
       "      <td>1913</td>\n",
       "      <td>2</td>\n",
       "      <td>C4</td>\n",
       "      <td>3936272</td>\n",
       "      <td>2016-09-23 00:00:00</td>\n",
       "    </tr>\n",
       "    <tr>\n",
       "      <th>4</th>\n",
       "      <td>8</td>\n",
       "      <td>Manhattan</td>\n",
       "      <td>ALPHABET CITY</td>\n",
       "      <td>07 RENTALS - WALKUP APARTMENTS</td>\n",
       "      <td>2A</td>\n",
       "      <td>404</td>\n",
       "      <td>55</td>\n",
       "      <td></td>\n",
       "      <td>C2</td>\n",
       "      <td>301 EAST 10TH   STREET</td>\n",
       "      <td></td>\n",
       "      <td>10009</td>\n",
       "      <td>6</td>\n",
       "      <td>0</td>\n",
       "      <td>6</td>\n",
       "      <td>2369</td>\n",
       "      <td>4615</td>\n",
       "      <td>1900</td>\n",
       "      <td>2</td>\n",
       "      <td>C2</td>\n",
       "      <td>8000000</td>\n",
       "      <td>2016-11-17 00:00:00</td>\n",
       "    </tr>\n",
       "  </tbody>\n",
       "</table>\n",
       "</div>"
      ],
      "text/plain": [
       "   Unnamed: 0    BOROUGH   NEIGHBORHOOD  \\\n",
       "0           4  Manhattan  ALPHABET CITY   \n",
       "1           5  Manhattan  ALPHABET CITY   \n",
       "2           6  Manhattan  ALPHABET CITY   \n",
       "3           7  Manhattan  ALPHABET CITY   \n",
       "4           8  Manhattan  ALPHABET CITY   \n",
       "\n",
       "                       BUILDING CLASS CATEGORY TAX CLASS AT PRESENT  BLOCK  \\\n",
       "0  07 RENTALS - WALKUP APARTMENTS                                2A    392   \n",
       "1  07 RENTALS - WALKUP APARTMENTS                                 2    399   \n",
       "2  07 RENTALS - WALKUP APARTMENTS                                 2    399   \n",
       "3  07 RENTALS - WALKUP APARTMENTS                                2B    402   \n",
       "4  07 RENTALS - WALKUP APARTMENTS                                2A    404   \n",
       "\n",
       "   LOT EASE-MENT BUILDING CLASS AT PRESENT                 ADDRESS  \\\n",
       "0    6                                  C2            153 AVENUE B   \n",
       "1   26                                  C7   234 EAST 4TH   STREET   \n",
       "2   39                                  C7   197 EAST 3RD   STREET   \n",
       "3   21                                  C4     154 EAST 7TH STREET   \n",
       "4   55                                  C2  301 EAST 10TH   STREET   \n",
       "\n",
       "  APARTMENT NUMBER  ZIP CODE  RESIDENTIAL UNITS  COMMERCIAL UNITS  \\\n",
       "0                      10009                  5                 0   \n",
       "1                      10009                 28                 3   \n",
       "2                      10009                 16                 1   \n",
       "3                      10009                 10                 0   \n",
       "4                      10009                  6                 0   \n",
       "\n",
       "   TOTAL UNITS LAND SQUARE FEET GROSS SQUARE FEET  YEAR BUILT  \\\n",
       "0            5             1633              6440        1900   \n",
       "1           31             4616             18690        1900   \n",
       "2           17             2212              7803        1900   \n",
       "3           10             2272              6794        1913   \n",
       "4            6             2369              4615        1900   \n",
       "\n",
       "   TAX CLASS AT TIME OF SALE BUILDING CLASS AT TIME OF SALE SALE PRICE  \\\n",
       "0                          2                             C2    6625000   \n",
       "1                          2                             C7        -     \n",
       "2                          2                             C7        -     \n",
       "3                          2                             C4    3936272   \n",
       "4                          2                             C2    8000000   \n",
       "\n",
       "             SALE DATE  \n",
       "0  2017-07-19 00:00:00  \n",
       "1  2016-12-14 00:00:00  \n",
       "2  2016-12-09 00:00:00  \n",
       "3  2016-09-23 00:00:00  \n",
       "4  2016-11-17 00:00:00  "
      ]
     },
     "execution_count": 186,
     "metadata": {},
     "output_type": "execute_result"
    }
   ],
   "source": [
    "pd.set_option('display.max_columns',999)\n",
    "df.head()"
   ]
  },
  {
   "cell_type": "code",
   "execution_count": 187,
   "id": "011e09f5",
   "metadata": {},
   "outputs": [
    {
     "data": {
      "text/plain": [
       "array(['Unnamed: 0', 'BOROUGH', 'NEIGHBORHOOD', 'BUILDING CLASS CATEGORY',\n",
       "       'TAX CLASS AT PRESENT', 'BLOCK', 'LOT', 'EASE-MENT',\n",
       "       'BUILDING CLASS AT PRESENT', 'ADDRESS', 'APARTMENT NUMBER',\n",
       "       'ZIP CODE', 'RESIDENTIAL UNITS', 'COMMERCIAL UNITS', 'TOTAL UNITS',\n",
       "       'LAND SQUARE FEET', 'GROSS SQUARE FEET', 'YEAR BUILT',\n",
       "       'TAX CLASS AT TIME OF SALE', 'BUILDING CLASS AT TIME OF SALE',\n",
       "       'SALE PRICE', 'SALE DATE'], dtype=object)"
      ]
     },
     "execution_count": 187,
     "metadata": {},
     "output_type": "execute_result"
    }
   ],
   "source": [
    "df.columns.values"
   ]
  },
  {
   "cell_type": "code",
   "execution_count": 188,
   "id": "326c5af8",
   "metadata": {},
   "outputs": [
    {
     "name": "stdout",
     "output_type": "stream",
     "text": [
      "<class 'pandas.core.frame.DataFrame'>\n",
      "RangeIndex: 84548 entries, 0 to 84547\n",
      "Data columns (total 22 columns):\n",
      " #   Column                          Non-Null Count  Dtype \n",
      "---  ------                          --------------  ----- \n",
      " 0   Unnamed: 0                      84548 non-null  int64 \n",
      " 1   BOROUGH                         84548 non-null  object\n",
      " 2   NEIGHBORHOOD                    84548 non-null  object\n",
      " 3   BUILDING CLASS CATEGORY         84548 non-null  object\n",
      " 4   TAX CLASS AT PRESENT            84548 non-null  object\n",
      " 5   BLOCK                           84548 non-null  int64 \n",
      " 6   LOT                             84548 non-null  int64 \n",
      " 7   EASE-MENT                       84548 non-null  object\n",
      " 8   BUILDING CLASS AT PRESENT       84548 non-null  object\n",
      " 9   ADDRESS                         84548 non-null  object\n",
      " 10  APARTMENT NUMBER                84548 non-null  object\n",
      " 11  ZIP CODE                        84548 non-null  int64 \n",
      " 12  RESIDENTIAL UNITS               84548 non-null  int64 \n",
      " 13  COMMERCIAL UNITS                84548 non-null  int64 \n",
      " 14  TOTAL UNITS                     84548 non-null  int64 \n",
      " 15  LAND SQUARE FEET                84548 non-null  object\n",
      " 16  GROSS SQUARE FEET               84548 non-null  object\n",
      " 17  YEAR BUILT                      84548 non-null  int64 \n",
      " 18  TAX CLASS AT TIME OF SALE       84548 non-null  int64 \n",
      " 19  BUILDING CLASS AT TIME OF SALE  84548 non-null  object\n",
      " 20  SALE PRICE                      84548 non-null  object\n",
      " 21  SALE DATE                       84548 non-null  object\n",
      "dtypes: int64(9), object(13)\n",
      "memory usage: 14.2+ MB\n"
     ]
    }
   ],
   "source": [
    "df.info()"
   ]
  },
  {
   "cell_type": "markdown",
   "id": "9a79daf7",
   "metadata": {},
   "source": [
    "Dari hasil tersebut bisa dilihat bahwa ada kolom bernama \"Unnamed: 0\" yang tidak jelas kegunaannya untuk apa dan ada juga kolom bernama \"EASE-MENT\" yang tidak memiliki value sama sekali didalamnya. Oleh sebab itu kedua kolom ini akan di drop terlebih dahulu sebelum dibahas permasalahan lain pada dataset ini."
   ]
  },
  {
   "cell_type": "code",
   "execution_count": 189,
   "id": "7dac842e",
   "metadata": {},
   "outputs": [
    {
     "data": {
      "text/html": [
       "<div>\n",
       "<style scoped>\n",
       "    .dataframe tbody tr th:only-of-type {\n",
       "        vertical-align: middle;\n",
       "    }\n",
       "\n",
       "    .dataframe tbody tr th {\n",
       "        vertical-align: top;\n",
       "    }\n",
       "\n",
       "    .dataframe thead th {\n",
       "        text-align: right;\n",
       "    }\n",
       "</style>\n",
       "<table border=\"1\" class=\"dataframe\">\n",
       "  <thead>\n",
       "    <tr style=\"text-align: right;\">\n",
       "      <th></th>\n",
       "      <th>BOROUGH</th>\n",
       "      <th>NEIGHBORHOOD</th>\n",
       "      <th>BUILDING CLASS CATEGORY</th>\n",
       "      <th>TAX CLASS AT PRESENT</th>\n",
       "      <th>BLOCK</th>\n",
       "      <th>LOT</th>\n",
       "      <th>BUILDING CLASS AT PRESENT</th>\n",
       "      <th>ADDRESS</th>\n",
       "      <th>APARTMENT NUMBER</th>\n",
       "      <th>ZIP CODE</th>\n",
       "      <th>RESIDENTIAL UNITS</th>\n",
       "      <th>COMMERCIAL UNITS</th>\n",
       "      <th>TOTAL UNITS</th>\n",
       "      <th>LAND SQUARE FEET</th>\n",
       "      <th>GROSS SQUARE FEET</th>\n",
       "      <th>YEAR BUILT</th>\n",
       "      <th>TAX CLASS AT TIME OF SALE</th>\n",
       "      <th>BUILDING CLASS AT TIME OF SALE</th>\n",
       "      <th>SALE PRICE</th>\n",
       "      <th>SALE DATE</th>\n",
       "    </tr>\n",
       "  </thead>\n",
       "  <tbody>\n",
       "    <tr>\n",
       "      <th>0</th>\n",
       "      <td>Manhattan</td>\n",
       "      <td>ALPHABET CITY</td>\n",
       "      <td>07 RENTALS - WALKUP APARTMENTS</td>\n",
       "      <td>2A</td>\n",
       "      <td>392</td>\n",
       "      <td>6</td>\n",
       "      <td>C2</td>\n",
       "      <td>153 AVENUE B</td>\n",
       "      <td></td>\n",
       "      <td>10009</td>\n",
       "      <td>5</td>\n",
       "      <td>0</td>\n",
       "      <td>5</td>\n",
       "      <td>1633</td>\n",
       "      <td>6440</td>\n",
       "      <td>1900</td>\n",
       "      <td>2</td>\n",
       "      <td>C2</td>\n",
       "      <td>6625000</td>\n",
       "      <td>2017-07-19 00:00:00</td>\n",
       "    </tr>\n",
       "  </tbody>\n",
       "</table>\n",
       "</div>"
      ],
      "text/plain": [
       "     BOROUGH   NEIGHBORHOOD                      BUILDING CLASS CATEGORY  \\\n",
       "0  Manhattan  ALPHABET CITY  07 RENTALS - WALKUP APARTMENTS                \n",
       "\n",
       "  TAX CLASS AT PRESENT  BLOCK  LOT BUILDING CLASS AT PRESENT       ADDRESS  \\\n",
       "0                   2A    392    6                        C2  153 AVENUE B   \n",
       "\n",
       "  APARTMENT NUMBER  ZIP CODE  RESIDENTIAL UNITS  COMMERCIAL UNITS  \\\n",
       "0                      10009                  5                 0   \n",
       "\n",
       "   TOTAL UNITS LAND SQUARE FEET GROSS SQUARE FEET  YEAR BUILT  \\\n",
       "0            5             1633              6440        1900   \n",
       "\n",
       "   TAX CLASS AT TIME OF SALE BUILDING CLASS AT TIME OF SALE SALE PRICE  \\\n",
       "0                          2                             C2    6625000   \n",
       "\n",
       "             SALE DATE  \n",
       "0  2017-07-19 00:00:00  "
      ]
     },
     "execution_count": 189,
     "metadata": {},
     "output_type": "execute_result"
    }
   ],
   "source": [
    "df.drop(columns=['Unnamed: 0', 'EASE-MENT'], inplace=True)\n",
    "df.head(1)"
   ]
  },
  {
   "cell_type": "code",
   "execution_count": 190,
   "id": "7b2ea3f6",
   "metadata": {},
   "outputs": [
    {
     "data": {
      "text/plain": [
       "(84548, 20)"
      ]
     },
     "execution_count": 190,
     "metadata": {},
     "output_type": "execute_result"
    }
   ],
   "source": [
    "df.shape"
   ]
  },
  {
   "cell_type": "markdown",
   "id": "f8607bce",
   "metadata": {},
   "source": [
    "2 kolom sudah sukses terhapus dari tabel data tersebut. Beberapa kolom pada tabel data tersebut memiliki tipe yang salah seperti misalnya \"SALE PRICE\" dimana memiliki tipe object yang harus bertipe numeric atau int64. Oleh sebab itu akan dilakukan perubahan tipe data pada tiap kolom dengan tipe data yang salah."
   ]
  },
  {
   "cell_type": "code",
   "execution_count": 191,
   "id": "045cfaff",
   "metadata": {},
   "outputs": [],
   "source": [
    "df['BOROUGH'] = df['BOROUGH'].astype('string')\n",
    "df['NEIGHBORHOOD'] = df['NEIGHBORHOOD'].astype('string')\n",
    "df['BUILDING CLASS CATEGORY'] = df['BUILDING CLASS CATEGORY'].astype('category')\n",
    "df['TAX CLASS AT PRESENT'] = df['TAX CLASS AT PRESENT'].astype('category')\n",
    "df['BUILDING CLASS AT PRESENT'] = df['BUILDING CLASS AT PRESENT'].astype('category')\n",
    "df['ADDRESS'] = df['ADDRESS'].astype('string')\n",
    "df['APARTMENT NUMBER'] = df['APARTMENT NUMBER'].astype('string')\n",
    "df['LAND SQUARE FEET'] = pd.to_numeric(df['LAND SQUARE FEET'], errors='coerce')\n",
    "df['GROSS SQUARE FEET'] = pd.to_numeric(df['GROSS SQUARE FEET'], errors='coerce')\n",
    "df['BUILDING CLASS AT TIME OF SALE'] = df['BUILDING CLASS AT TIME OF SALE'].astype('category')\n",
    "df['SALE PRICE'] = pd.to_numeric(df['SALE PRICE'], errors='coerce')\n",
    "df['SALE DATE'] = pd.to_datetime(df['SALE DATE'], errors='coerce')"
   ]
  },
  {
   "cell_type": "code",
   "execution_count": 192,
   "id": "02d5e58b",
   "metadata": {},
   "outputs": [
    {
     "name": "stdout",
     "output_type": "stream",
     "text": [
      "<class 'pandas.core.frame.DataFrame'>\n",
      "RangeIndex: 84548 entries, 0 to 84547\n",
      "Data columns (total 20 columns):\n",
      " #   Column                          Non-Null Count  Dtype         \n",
      "---  ------                          --------------  -----         \n",
      " 0   BOROUGH                         84548 non-null  string        \n",
      " 1   NEIGHBORHOOD                    84548 non-null  string        \n",
      " 2   BUILDING CLASS CATEGORY         84548 non-null  category      \n",
      " 3   TAX CLASS AT PRESENT            84548 non-null  category      \n",
      " 4   BLOCK                           84548 non-null  int64         \n",
      " 5   LOT                             84548 non-null  int64         \n",
      " 6   BUILDING CLASS AT PRESENT       84548 non-null  category      \n",
      " 7   ADDRESS                         84548 non-null  string        \n",
      " 8   APARTMENT NUMBER                84548 non-null  string        \n",
      " 9   ZIP CODE                        84548 non-null  int64         \n",
      " 10  RESIDENTIAL UNITS               84548 non-null  int64         \n",
      " 11  COMMERCIAL UNITS                84548 non-null  int64         \n",
      " 12  TOTAL UNITS                     84548 non-null  int64         \n",
      " 13  LAND SQUARE FEET                58296 non-null  float64       \n",
      " 14  GROSS SQUARE FEET               56936 non-null  float64       \n",
      " 15  YEAR BUILT                      84548 non-null  int64         \n",
      " 16  TAX CLASS AT TIME OF SALE       84548 non-null  int64         \n",
      " 17  BUILDING CLASS AT TIME OF SALE  84548 non-null  category      \n",
      " 18  SALE PRICE                      69987 non-null  float64       \n",
      " 19  SALE DATE                       84548 non-null  datetime64[ns]\n",
      "dtypes: category(4), datetime64[ns](1), float64(3), int64(8), string(4)\n",
      "memory usage: 10.8 MB\n"
     ]
    }
   ],
   "source": [
    "df.info()"
   ]
  },
  {
   "cell_type": "markdown",
   "id": "a0f98614",
   "metadata": {},
   "source": [
    "Data pada tabel sudah selesai dikonversi sesuai dengan tipe data yang seharusnya. Sekarang akan dilakukan pengecekan apakah ada value yang bernilai null pada tabel data tersebut."
   ]
  },
  {
   "cell_type": "code",
   "execution_count": 193,
   "id": "a08f7906",
   "metadata": {},
   "outputs": [
    {
     "data": {
      "text/plain": [
       "BOROUGH                               0\n",
       "NEIGHBORHOOD                          0\n",
       "BUILDING CLASS CATEGORY               0\n",
       "TAX CLASS AT PRESENT                  0\n",
       "BLOCK                                 0\n",
       "LOT                                   0\n",
       "BUILDING CLASS AT PRESENT             0\n",
       "ADDRESS                               0\n",
       "APARTMENT NUMBER                      0\n",
       "ZIP CODE                              0\n",
       "RESIDENTIAL UNITS                     0\n",
       "COMMERCIAL UNITS                      0\n",
       "TOTAL UNITS                           0\n",
       "LAND SQUARE FEET                  26252\n",
       "GROSS SQUARE FEET                 27612\n",
       "YEAR BUILT                            0\n",
       "TAX CLASS AT TIME OF SALE             0\n",
       "BUILDING CLASS AT TIME OF SALE        0\n",
       "SALE PRICE                        14561\n",
       "SALE DATE                             0\n",
       "dtype: int64"
      ]
     },
     "execution_count": 193,
     "metadata": {},
     "output_type": "execute_result"
    }
   ],
   "source": [
    "df.isnull().sum()"
   ]
  },
  {
   "cell_type": "markdown",
   "id": "bad1fbcd",
   "metadata": {},
   "source": [
    "Ternyata pada \"LAND SQUARE FEET\", \"GROSS SQUARE FEET\", dan \"SALE PRICE\" memiliki value bernilai null. Tetapi karena ketiga kolom ini kemungkinan akan digunakan, maka diambil data - data yang tidak null dari kolom \"GROSS SQUARE FEET\" dikarenakan kolom ini memiliki jumlah null terbanyak dan jika setelah dibersihkan masih ada yang null maka akan dilakukan cara yang sama untuk membersihkannya dengan mengambil nilai yang tidak null dari kolom dengan jumlah null terbesar."
   ]
  },
  {
   "cell_type": "code",
   "execution_count": 194,
   "id": "1405451a",
   "metadata": {},
   "outputs": [
    {
     "data": {
      "text/plain": [
       "BOROUGH                           0\n",
       "NEIGHBORHOOD                      0\n",
       "BUILDING CLASS CATEGORY           0\n",
       "TAX CLASS AT PRESENT              0\n",
       "BLOCK                             0\n",
       "LOT                               0\n",
       "BUILDING CLASS AT PRESENT         0\n",
       "ADDRESS                           0\n",
       "APARTMENT NUMBER                  0\n",
       "ZIP CODE                          0\n",
       "RESIDENTIAL UNITS                 0\n",
       "COMMERCIAL UNITS                  0\n",
       "TOTAL UNITS                       0\n",
       "LAND SQUARE FEET                  0\n",
       "GROSS SQUARE FEET                 0\n",
       "YEAR BUILT                        0\n",
       "TAX CLASS AT TIME OF SALE         0\n",
       "BUILDING CLASS AT TIME OF SALE    0\n",
       "SALE PRICE                        0\n",
       "SALE DATE                         0\n",
       "dtype: int64"
      ]
     },
     "execution_count": 194,
     "metadata": {},
     "output_type": "execute_result"
    }
   ],
   "source": [
    "df = df[df['GROSS SQUARE FEET'].notnull()]\n",
    "df = df[df['SALE PRICE'].notnull()]\n",
    "df = df[df['LAND SQUARE FEET'].notnull()]\n",
    "df.isnull().sum()"
   ]
  },
  {
   "cell_type": "code",
   "execution_count": 195,
   "id": "261a41b6",
   "metadata": {},
   "outputs": [
    {
     "data": {
      "text/plain": [
       "(48244, 20)"
      ]
     },
     "execution_count": 195,
     "metadata": {},
     "output_type": "execute_result"
    }
   ],
   "source": [
    "df.shape"
   ]
  },
  {
   "cell_type": "markdown",
   "id": "d2d82b05",
   "metadata": {},
   "source": [
    "Setelah dilakukan pembersihan nilai null, jumlah data sekarang ada sebanyak 48244 dimana sebelumnya berjumlah 84548. Meskipun hampir 50% data dihapus, tetapi data ini masih bisa layak digunakan dibandingkan data sebelumnya yang kemungkinan terdapat kesalahan penginputtan data, data tercorrupt, dan sebagainya yang membuat hasil nanti menjadi tidak akurat. Sekarang akan dilakukan pengecekan statistik sederhananya."
   ]
  },
  {
   "cell_type": "code",
   "execution_count": 196,
   "id": "c9088f44",
   "metadata": {},
   "outputs": [
    {
     "data": {
      "text/html": [
       "<div>\n",
       "<style scoped>\n",
       "    .dataframe tbody tr th:only-of-type {\n",
       "        vertical-align: middle;\n",
       "    }\n",
       "\n",
       "    .dataframe tbody tr th {\n",
       "        vertical-align: top;\n",
       "    }\n",
       "\n",
       "    .dataframe thead th {\n",
       "        text-align: right;\n",
       "    }\n",
       "</style>\n",
       "<table border=\"1\" class=\"dataframe\">\n",
       "  <thead>\n",
       "    <tr style=\"text-align: right;\">\n",
       "      <th></th>\n",
       "      <th>BLOCK</th>\n",
       "      <th>LOT</th>\n",
       "      <th>ZIP CODE</th>\n",
       "      <th>RESIDENTIAL UNITS</th>\n",
       "      <th>COMMERCIAL UNITS</th>\n",
       "      <th>TOTAL UNITS</th>\n",
       "      <th>LAND SQUARE FEET</th>\n",
       "      <th>GROSS SQUARE FEET</th>\n",
       "      <th>YEAR BUILT</th>\n",
       "      <th>TAX CLASS AT TIME OF SALE</th>\n",
       "      <th>SALE PRICE</th>\n",
       "    </tr>\n",
       "  </thead>\n",
       "  <tbody>\n",
       "    <tr>\n",
       "      <th>count</th>\n",
       "      <td>48244.000000</td>\n",
       "      <td>48244.000000</td>\n",
       "      <td>48244.000000</td>\n",
       "      <td>48244.000000</td>\n",
       "      <td>48244.000000</td>\n",
       "      <td>48244.000000</td>\n",
       "      <td>4.824400e+04</td>\n",
       "      <td>4.824400e+04</td>\n",
       "      <td>48244.000000</td>\n",
       "      <td>48244.000000</td>\n",
       "      <td>4.824400e+04</td>\n",
       "    </tr>\n",
       "    <tr>\n",
       "      <th>mean</th>\n",
       "      <td>4984.532191</td>\n",
       "      <td>234.324662</td>\n",
       "      <td>10939.681328</td>\n",
       "      <td>2.566537</td>\n",
       "      <td>0.249171</td>\n",
       "      <td>2.834632</td>\n",
       "      <td>3.358117e+03</td>\n",
       "      <td>3.669753e+03</td>\n",
       "      <td>1827.765173</td>\n",
       "      <td>1.475769</td>\n",
       "      <td>1.153281e+06</td>\n",
       "    </tr>\n",
       "    <tr>\n",
       "      <th>std</th>\n",
       "      <td>3427.418090</td>\n",
       "      <td>496.361521</td>\n",
       "      <td>1072.752086</td>\n",
       "      <td>17.465481</td>\n",
       "      <td>10.988072</td>\n",
       "      <td>20.750418</td>\n",
       "      <td>3.143590e+04</td>\n",
       "      <td>2.947491e+04</td>\n",
       "      <td>464.361153</td>\n",
       "      <td>0.833589</td>\n",
       "      <td>1.340131e+07</td>\n",
       "    </tr>\n",
       "    <tr>\n",
       "      <th>min</th>\n",
       "      <td>1.000000</td>\n",
       "      <td>1.000000</td>\n",
       "      <td>0.000000</td>\n",
       "      <td>0.000000</td>\n",
       "      <td>0.000000</td>\n",
       "      <td>0.000000</td>\n",
       "      <td>0.000000e+00</td>\n",
       "      <td>0.000000e+00</td>\n",
       "      <td>0.000000</td>\n",
       "      <td>1.000000</td>\n",
       "      <td>0.000000e+00</td>\n",
       "    </tr>\n",
       "    <tr>\n",
       "      <th>25%</th>\n",
       "      <td>2206.750000</td>\n",
       "      <td>21.000000</td>\n",
       "      <td>10469.000000</td>\n",
       "      <td>1.000000</td>\n",
       "      <td>0.000000</td>\n",
       "      <td>1.000000</td>\n",
       "      <td>1.413000e+03</td>\n",
       "      <td>8.280000e+02</td>\n",
       "      <td>1920.000000</td>\n",
       "      <td>1.000000</td>\n",
       "      <td>8.042000e+04</td>\n",
       "    </tr>\n",
       "    <tr>\n",
       "      <th>50%</th>\n",
       "      <td>4660.500000</td>\n",
       "      <td>45.000000</td>\n",
       "      <td>11217.000000</td>\n",
       "      <td>1.000000</td>\n",
       "      <td>0.000000</td>\n",
       "      <td>1.000000</td>\n",
       "      <td>2.140000e+03</td>\n",
       "      <td>1.620000e+03</td>\n",
       "      <td>1931.000000</td>\n",
       "      <td>1.000000</td>\n",
       "      <td>4.800000e+05</td>\n",
       "    </tr>\n",
       "    <tr>\n",
       "      <th>75%</th>\n",
       "      <td>6996.000000</td>\n",
       "      <td>94.000000</td>\n",
       "      <td>11237.000000</td>\n",
       "      <td>2.000000</td>\n",
       "      <td>0.000000</td>\n",
       "      <td>2.000000</td>\n",
       "      <td>3.071000e+03</td>\n",
       "      <td>2.520000e+03</td>\n",
       "      <td>1961.000000</td>\n",
       "      <td>2.000000</td>\n",
       "      <td>8.300000e+05</td>\n",
       "    </tr>\n",
       "    <tr>\n",
       "      <th>max</th>\n",
       "      <td>16319.000000</td>\n",
       "      <td>9009.000000</td>\n",
       "      <td>11694.000000</td>\n",
       "      <td>1844.000000</td>\n",
       "      <td>2261.000000</td>\n",
       "      <td>2261.000000</td>\n",
       "      <td>4.228300e+06</td>\n",
       "      <td>3.750565e+06</td>\n",
       "      <td>2017.000000</td>\n",
       "      <td>4.000000</td>\n",
       "      <td>2.210000e+09</td>\n",
       "    </tr>\n",
       "  </tbody>\n",
       "</table>\n",
       "</div>"
      ],
      "text/plain": [
       "              BLOCK           LOT      ZIP CODE  RESIDENTIAL UNITS  \\\n",
       "count  48244.000000  48244.000000  48244.000000       48244.000000   \n",
       "mean    4984.532191    234.324662  10939.681328           2.566537   \n",
       "std     3427.418090    496.361521   1072.752086          17.465481   \n",
       "min        1.000000      1.000000      0.000000           0.000000   \n",
       "25%     2206.750000     21.000000  10469.000000           1.000000   \n",
       "50%     4660.500000     45.000000  11217.000000           1.000000   \n",
       "75%     6996.000000     94.000000  11237.000000           2.000000   \n",
       "max    16319.000000   9009.000000  11694.000000        1844.000000   \n",
       "\n",
       "       COMMERCIAL UNITS   TOTAL UNITS  LAND SQUARE FEET  GROSS SQUARE FEET  \\\n",
       "count      48244.000000  48244.000000      4.824400e+04       4.824400e+04   \n",
       "mean           0.249171      2.834632      3.358117e+03       3.669753e+03   \n",
       "std           10.988072     20.750418      3.143590e+04       2.947491e+04   \n",
       "min            0.000000      0.000000      0.000000e+00       0.000000e+00   \n",
       "25%            0.000000      1.000000      1.413000e+03       8.280000e+02   \n",
       "50%            0.000000      1.000000      2.140000e+03       1.620000e+03   \n",
       "75%            0.000000      2.000000      3.071000e+03       2.520000e+03   \n",
       "max         2261.000000   2261.000000      4.228300e+06       3.750565e+06   \n",
       "\n",
       "         YEAR BUILT  TAX CLASS AT TIME OF SALE    SALE PRICE  \n",
       "count  48244.000000               48244.000000  4.824400e+04  \n",
       "mean    1827.765173                   1.475769  1.153281e+06  \n",
       "std      464.361153                   0.833589  1.340131e+07  \n",
       "min        0.000000                   1.000000  0.000000e+00  \n",
       "25%     1920.000000                   1.000000  8.042000e+04  \n",
       "50%     1931.000000                   1.000000  4.800000e+05  \n",
       "75%     1961.000000                   2.000000  8.300000e+05  \n",
       "max     2017.000000                   4.000000  2.210000e+09  "
      ]
     },
     "execution_count": 196,
     "metadata": {},
     "output_type": "execute_result"
    }
   ],
   "source": [
    "df.describe()"
   ]
  },
  {
   "cell_type": "markdown",
   "id": "73a52f7b",
   "metadata": {},
   "source": [
    "Pada hasil describe tersebut dapat dilihat beberapa keanehan, yaitu:\n",
    "1. Kolom \"TOTAL UNITS\" ada yang bernilai 0 yang seharusnya setiap properti memiliki total unit minimal 1\n",
    "2. Kolom \"LAND SQUARE FEET\" ada yang bernilai 0 yang seharusnya setiap properti memiliki luas\n",
    "3. Kolom \"GROSS SQUARE FEET\" ada yang bernilai 0 yang seharusnya setiap properti memiliki luas\n",
    "4. Kolom \"YEAR BUILT\" ada yang bernilai 0 yang seharusnya setiap properti memiliki awal tahun pembuatan\n",
    "5. Kolom \"SALE PRICE\" ada yang bernilai 0, kolom ini tidak sepenuhnya salah dikarenakan nilai 0 ini biasanya menandakan transfer kepemilikan properti saja.\n",
    "6. Kolom \"ZIP CODE\" ada yang bernilai 9 yang seharusnya setiap properti memiliki zip code wilayah berdirinya properti tersebut"
   ]
  },
  {
   "cell_type": "markdown",
   "id": "fe77433e",
   "metadata": {},
   "source": [
    "Data yang akan saya observasi adalah data yang memiliki nilai diatas 0, oleh sebab itu data yang bernilai 0 akan dihapus dari observasi. Tetapi data ini akan disimpan ke variabel sementara terlebih dahulu untuk berjaga - jaga apabila data berkurang drastis."
   ]
  },
  {
   "cell_type": "code",
   "execution_count": 197,
   "id": "0bf7ea8e",
   "metadata": {},
   "outputs": [
    {
     "data": {
      "text/plain": [
       "(29270, 20)"
      ]
     },
     "execution_count": 197,
     "metadata": {},
     "output_type": "execute_result"
    }
   ],
   "source": [
    "df_temp = df[\n",
    "    (df['TOTAL UNITS'] != 0) &\n",
    "    (df['LAND SQUARE FEET'] != 0) &\n",
    "    (df['GROSS SQUARE FEET'] != 0) &\n",
    "    (df['YEAR BUILT'] != 0) &\n",
    "    (df['SALE PRICE'] != 0) &\n",
    "    (df['ZIP CODE'] != 0)\n",
    "       ]\n",
    "df_temp.shape"
   ]
  },
  {
   "cell_type": "markdown",
   "id": "74606de1",
   "metadata": {},
   "source": [
    "Sepertinya 29270 masih merupakan jumlah data yang banyak, oleh sebab itu digunakan tabel data ini untuk menjawab pertanyaan yang akan dibahas di bagian berikutnya."
   ]
  },
  {
   "cell_type": "code",
   "execution_count": 198,
   "id": "17098784",
   "metadata": {},
   "outputs": [
    {
     "data": {
      "text/html": [
       "<div>\n",
       "<style scoped>\n",
       "    .dataframe tbody tr th:only-of-type {\n",
       "        vertical-align: middle;\n",
       "    }\n",
       "\n",
       "    .dataframe tbody tr th {\n",
       "        vertical-align: top;\n",
       "    }\n",
       "\n",
       "    .dataframe thead th {\n",
       "        text-align: right;\n",
       "    }\n",
       "</style>\n",
       "<table border=\"1\" class=\"dataframe\">\n",
       "  <thead>\n",
       "    <tr style=\"text-align: right;\">\n",
       "      <th></th>\n",
       "      <th>BLOCK</th>\n",
       "      <th>LOT</th>\n",
       "      <th>ZIP CODE</th>\n",
       "      <th>RESIDENTIAL UNITS</th>\n",
       "      <th>COMMERCIAL UNITS</th>\n",
       "      <th>TOTAL UNITS</th>\n",
       "      <th>LAND SQUARE FEET</th>\n",
       "      <th>GROSS SQUARE FEET</th>\n",
       "      <th>YEAR BUILT</th>\n",
       "      <th>TAX CLASS AT TIME OF SALE</th>\n",
       "      <th>SALE PRICE</th>\n",
       "    </tr>\n",
       "  </thead>\n",
       "  <tbody>\n",
       "    <tr>\n",
       "      <th>count</th>\n",
       "      <td>29270.000000</td>\n",
       "      <td>29270.000000</td>\n",
       "      <td>29270.000000</td>\n",
       "      <td>29270.000000</td>\n",
       "      <td>29270.000000</td>\n",
       "      <td>29270.000000</td>\n",
       "      <td>2.927000e+04</td>\n",
       "      <td>2.927000e+04</td>\n",
       "      <td>29270.000000</td>\n",
       "      <td>29270.000000</td>\n",
       "      <td>2.927000e+04</td>\n",
       "    </tr>\n",
       "    <tr>\n",
       "      <th>mean</th>\n",
       "      <td>5550.708097</td>\n",
       "      <td>61.181654</td>\n",
       "      <td>10997.383123</td>\n",
       "      <td>3.054493</td>\n",
       "      <td>0.329757</td>\n",
       "      <td>3.382849</td>\n",
       "      <td>4.204053e+03</td>\n",
       "      <td>4.602588e+03</td>\n",
       "      <td>1940.690571</td>\n",
       "      <td>1.228562</td>\n",
       "      <td>1.637125e+06</td>\n",
       "    </tr>\n",
       "    <tr>\n",
       "      <th>std</th>\n",
       "      <td>3780.050656</td>\n",
       "      <td>116.561248</td>\n",
       "      <td>476.344549</td>\n",
       "      <td>20.041605</td>\n",
       "      <td>14.031267</td>\n",
       "      <td>24.600632</td>\n",
       "      <td>3.548674e+04</td>\n",
       "      <td>3.413059e+04</td>\n",
       "      <td>30.528042</td>\n",
       "      <td>0.685628</td>\n",
       "      <td>1.701132e+07</td>\n",
       "    </tr>\n",
       "    <tr>\n",
       "      <th>min</th>\n",
       "      <td>5.000000</td>\n",
       "      <td>1.000000</td>\n",
       "      <td>10001.000000</td>\n",
       "      <td>0.000000</td>\n",
       "      <td>0.000000</td>\n",
       "      <td>1.000000</td>\n",
       "      <td>2.000000e+02</td>\n",
       "      <td>1.200000e+02</td>\n",
       "      <td>1800.000000</td>\n",
       "      <td>1.000000</td>\n",
       "      <td>1.000000e+00</td>\n",
       "    </tr>\n",
       "    <tr>\n",
       "      <th>25%</th>\n",
       "      <td>2678.500000</td>\n",
       "      <td>19.000000</td>\n",
       "      <td>10462.000000</td>\n",
       "      <td>1.000000</td>\n",
       "      <td>0.000000</td>\n",
       "      <td>1.000000</td>\n",
       "      <td>2.000000e+03</td>\n",
       "      <td>1.360000e+03</td>\n",
       "      <td>1920.000000</td>\n",
       "      <td>1.000000</td>\n",
       "      <td>4.200000e+05</td>\n",
       "    </tr>\n",
       "    <tr>\n",
       "      <th>50%</th>\n",
       "      <td>4903.000000</td>\n",
       "      <td>38.000000</td>\n",
       "      <td>11221.000000</td>\n",
       "      <td>2.000000</td>\n",
       "      <td>0.000000</td>\n",
       "      <td>2.000000</td>\n",
       "      <td>2.500000e+03</td>\n",
       "      <td>1.872000e+03</td>\n",
       "      <td>1930.000000</td>\n",
       "      <td>1.000000</td>\n",
       "      <td>6.200000e+05</td>\n",
       "    </tr>\n",
       "    <tr>\n",
       "      <th>75%</th>\n",
       "      <td>7837.750000</td>\n",
       "      <td>64.000000</td>\n",
       "      <td>11373.000000</td>\n",
       "      <td>2.000000</td>\n",
       "      <td>0.000000</td>\n",
       "      <td>2.000000</td>\n",
       "      <td>4.000000e+03</td>\n",
       "      <td>2.672000e+03</td>\n",
       "      <td>1960.000000</td>\n",
       "      <td>1.000000</td>\n",
       "      <td>9.500000e+05</td>\n",
       "    </tr>\n",
       "    <tr>\n",
       "      <th>max</th>\n",
       "      <td>16319.000000</td>\n",
       "      <td>3710.000000</td>\n",
       "      <td>11694.000000</td>\n",
       "      <td>1844.000000</td>\n",
       "      <td>2261.000000</td>\n",
       "      <td>2261.000000</td>\n",
       "      <td>4.228300e+06</td>\n",
       "      <td>3.750565e+06</td>\n",
       "      <td>2017.000000</td>\n",
       "      <td>4.000000</td>\n",
       "      <td>2.210000e+09</td>\n",
       "    </tr>\n",
       "  </tbody>\n",
       "</table>\n",
       "</div>"
      ],
      "text/plain": [
       "              BLOCK           LOT      ZIP CODE  RESIDENTIAL UNITS  \\\n",
       "count  29270.000000  29270.000000  29270.000000       29270.000000   \n",
       "mean    5550.708097     61.181654  10997.383123           3.054493   \n",
       "std     3780.050656    116.561248    476.344549          20.041605   \n",
       "min        5.000000      1.000000  10001.000000           0.000000   \n",
       "25%     2678.500000     19.000000  10462.000000           1.000000   \n",
       "50%     4903.000000     38.000000  11221.000000           2.000000   \n",
       "75%     7837.750000     64.000000  11373.000000           2.000000   \n",
       "max    16319.000000   3710.000000  11694.000000        1844.000000   \n",
       "\n",
       "       COMMERCIAL UNITS   TOTAL UNITS  LAND SQUARE FEET  GROSS SQUARE FEET  \\\n",
       "count      29270.000000  29270.000000      2.927000e+04       2.927000e+04   \n",
       "mean           0.329757      3.382849      4.204053e+03       4.602588e+03   \n",
       "std           14.031267     24.600632      3.548674e+04       3.413059e+04   \n",
       "min            0.000000      1.000000      2.000000e+02       1.200000e+02   \n",
       "25%            0.000000      1.000000      2.000000e+03       1.360000e+03   \n",
       "50%            0.000000      2.000000      2.500000e+03       1.872000e+03   \n",
       "75%            0.000000      2.000000      4.000000e+03       2.672000e+03   \n",
       "max         2261.000000   2261.000000      4.228300e+06       3.750565e+06   \n",
       "\n",
       "         YEAR BUILT  TAX CLASS AT TIME OF SALE    SALE PRICE  \n",
       "count  29270.000000               29270.000000  2.927000e+04  \n",
       "mean    1940.690571                   1.228562  1.637125e+06  \n",
       "std       30.528042                   0.685628  1.701132e+07  \n",
       "min     1800.000000                   1.000000  1.000000e+00  \n",
       "25%     1920.000000                   1.000000  4.200000e+05  \n",
       "50%     1930.000000                   1.000000  6.200000e+05  \n",
       "75%     1960.000000                   1.000000  9.500000e+05  \n",
       "max     2017.000000                   4.000000  2.210000e+09  "
      ]
     },
     "execution_count": 198,
     "metadata": {},
     "output_type": "execute_result"
    }
   ],
   "source": [
    "df = df_temp\n",
    "df.describe()"
   ]
  },
  {
   "cell_type": "code",
   "execution_count": 199,
   "id": "a8413d51",
   "metadata": {},
   "outputs": [
    {
     "data": {
      "text/html": [
       "<div>\n",
       "<style scoped>\n",
       "    .dataframe tbody tr th:only-of-type {\n",
       "        vertical-align: middle;\n",
       "    }\n",
       "\n",
       "    .dataframe tbody tr th {\n",
       "        vertical-align: top;\n",
       "    }\n",
       "\n",
       "    .dataframe thead th {\n",
       "        text-align: right;\n",
       "    }\n",
       "</style>\n",
       "<table border=\"1\" class=\"dataframe\">\n",
       "  <thead>\n",
       "    <tr style=\"text-align: right;\">\n",
       "      <th></th>\n",
       "      <th>BOROUGH</th>\n",
       "      <th>NEIGHBORHOOD</th>\n",
       "      <th>BUILDING CLASS CATEGORY</th>\n",
       "      <th>TAX CLASS AT PRESENT</th>\n",
       "      <th>BLOCK</th>\n",
       "      <th>LOT</th>\n",
       "      <th>BUILDING CLASS AT PRESENT</th>\n",
       "      <th>ADDRESS</th>\n",
       "      <th>APARTMENT NUMBER</th>\n",
       "      <th>ZIP CODE</th>\n",
       "      <th>RESIDENTIAL UNITS</th>\n",
       "      <th>COMMERCIAL UNITS</th>\n",
       "      <th>TOTAL UNITS</th>\n",
       "      <th>LAND SQUARE FEET</th>\n",
       "      <th>GROSS SQUARE FEET</th>\n",
       "      <th>YEAR BUILT</th>\n",
       "      <th>TAX CLASS AT TIME OF SALE</th>\n",
       "      <th>BUILDING CLASS AT TIME OF SALE</th>\n",
       "      <th>SALE PRICE</th>\n",
       "      <th>SALE DATE</th>\n",
       "    </tr>\n",
       "  </thead>\n",
       "  <tbody>\n",
       "    <tr>\n",
       "      <th>0</th>\n",
       "      <td>Manhattan</td>\n",
       "      <td>ALPHABET CITY</td>\n",
       "      <td>07 RENTALS - WALKUP APARTMENTS</td>\n",
       "      <td>2A</td>\n",
       "      <td>392</td>\n",
       "      <td>6</td>\n",
       "      <td>C2</td>\n",
       "      <td>153 AVENUE B</td>\n",
       "      <td></td>\n",
       "      <td>10009</td>\n",
       "      <td>5</td>\n",
       "      <td>0</td>\n",
       "      <td>5</td>\n",
       "      <td>1633.0</td>\n",
       "      <td>6440.0</td>\n",
       "      <td>1900</td>\n",
       "      <td>2</td>\n",
       "      <td>C2</td>\n",
       "      <td>6625000.0</td>\n",
       "      <td>2017-07-19</td>\n",
       "    </tr>\n",
       "    <tr>\n",
       "      <th>3</th>\n",
       "      <td>Manhattan</td>\n",
       "      <td>ALPHABET CITY</td>\n",
       "      <td>07 RENTALS - WALKUP APARTMENTS</td>\n",
       "      <td>2B</td>\n",
       "      <td>402</td>\n",
       "      <td>21</td>\n",
       "      <td>C4</td>\n",
       "      <td>154 EAST 7TH STREET</td>\n",
       "      <td></td>\n",
       "      <td>10009</td>\n",
       "      <td>10</td>\n",
       "      <td>0</td>\n",
       "      <td>10</td>\n",
       "      <td>2272.0</td>\n",
       "      <td>6794.0</td>\n",
       "      <td>1913</td>\n",
       "      <td>2</td>\n",
       "      <td>C4</td>\n",
       "      <td>3936272.0</td>\n",
       "      <td>2016-09-23</td>\n",
       "    </tr>\n",
       "    <tr>\n",
       "      <th>4</th>\n",
       "      <td>Manhattan</td>\n",
       "      <td>ALPHABET CITY</td>\n",
       "      <td>07 RENTALS - WALKUP APARTMENTS</td>\n",
       "      <td>2A</td>\n",
       "      <td>404</td>\n",
       "      <td>55</td>\n",
       "      <td>C2</td>\n",
       "      <td>301 EAST 10TH   STREET</td>\n",
       "      <td></td>\n",
       "      <td>10009</td>\n",
       "      <td>6</td>\n",
       "      <td>0</td>\n",
       "      <td>6</td>\n",
       "      <td>2369.0</td>\n",
       "      <td>4615.0</td>\n",
       "      <td>1900</td>\n",
       "      <td>2</td>\n",
       "      <td>C2</td>\n",
       "      <td>8000000.0</td>\n",
       "      <td>2016-11-17</td>\n",
       "    </tr>\n",
       "    <tr>\n",
       "      <th>6</th>\n",
       "      <td>Manhattan</td>\n",
       "      <td>ALPHABET CITY</td>\n",
       "      <td>07 RENTALS - WALKUP APARTMENTS</td>\n",
       "      <td>2B</td>\n",
       "      <td>406</td>\n",
       "      <td>32</td>\n",
       "      <td>C4</td>\n",
       "      <td>210 AVENUE B</td>\n",
       "      <td></td>\n",
       "      <td>10009</td>\n",
       "      <td>8</td>\n",
       "      <td>0</td>\n",
       "      <td>8</td>\n",
       "      <td>1750.0</td>\n",
       "      <td>4226.0</td>\n",
       "      <td>1920</td>\n",
       "      <td>2</td>\n",
       "      <td>C4</td>\n",
       "      <td>3192840.0</td>\n",
       "      <td>2016-09-23</td>\n",
       "    </tr>\n",
       "    <tr>\n",
       "      <th>9</th>\n",
       "      <td>Manhattan</td>\n",
       "      <td>ALPHABET CITY</td>\n",
       "      <td>08 RENTALS - ELEVATOR APARTMENTS</td>\n",
       "      <td>2</td>\n",
       "      <td>387</td>\n",
       "      <td>153</td>\n",
       "      <td>D9</td>\n",
       "      <td>629 EAST 5TH STREET</td>\n",
       "      <td></td>\n",
       "      <td>10009</td>\n",
       "      <td>24</td>\n",
       "      <td>0</td>\n",
       "      <td>24</td>\n",
       "      <td>4489.0</td>\n",
       "      <td>18523.0</td>\n",
       "      <td>1920</td>\n",
       "      <td>2</td>\n",
       "      <td>D9</td>\n",
       "      <td>16232000.0</td>\n",
       "      <td>2016-11-07</td>\n",
       "    </tr>\n",
       "    <tr>\n",
       "      <th>11</th>\n",
       "      <td>Manhattan</td>\n",
       "      <td>ALPHABET CITY</td>\n",
       "      <td>08 RENTALS - ELEVATOR APARTMENTS</td>\n",
       "      <td>2B</td>\n",
       "      <td>400</td>\n",
       "      <td>21</td>\n",
       "      <td>D1</td>\n",
       "      <td>530-532 EAST 5TH STREET</td>\n",
       "      <td></td>\n",
       "      <td>10009</td>\n",
       "      <td>10</td>\n",
       "      <td>0</td>\n",
       "      <td>10</td>\n",
       "      <td>3717.0</td>\n",
       "      <td>12350.0</td>\n",
       "      <td>2009</td>\n",
       "      <td>2</td>\n",
       "      <td>D1</td>\n",
       "      <td>10350000.0</td>\n",
       "      <td>2016-10-17</td>\n",
       "    </tr>\n",
       "    <tr>\n",
       "      <th>22</th>\n",
       "      <td>Manhattan</td>\n",
       "      <td>ALPHABET CITY</td>\n",
       "      <td>09 COOPS - WALKUP APARTMENTS</td>\n",
       "      <td>2</td>\n",
       "      <td>376</td>\n",
       "      <td>14</td>\n",
       "      <td>C6</td>\n",
       "      <td>244 EAST 7TH STREET</td>\n",
       "      <td></td>\n",
       "      <td>10009</td>\n",
       "      <td>24</td>\n",
       "      <td>0</td>\n",
       "      <td>24</td>\n",
       "      <td>4131.0</td>\n",
       "      <td>16776.0</td>\n",
       "      <td>1928</td>\n",
       "      <td>2</td>\n",
       "      <td>C6</td>\n",
       "      <td>11900000.0</td>\n",
       "      <td>2017-06-21</td>\n",
       "    </tr>\n",
       "    <tr>\n",
       "      <th>172</th>\n",
       "      <td>Manhattan</td>\n",
       "      <td>ALPHABET CITY</td>\n",
       "      <td>14 RENTALS - 4-10 UNIT</td>\n",
       "      <td>2A</td>\n",
       "      <td>391</td>\n",
       "      <td>19</td>\n",
       "      <td>S3</td>\n",
       "      <td>624 EAST 9TH   STREET</td>\n",
       "      <td></td>\n",
       "      <td>10009</td>\n",
       "      <td>3</td>\n",
       "      <td>1</td>\n",
       "      <td>4</td>\n",
       "      <td>1520.0</td>\n",
       "      <td>3360.0</td>\n",
       "      <td>1910</td>\n",
       "      <td>2</td>\n",
       "      <td>S3</td>\n",
       "      <td>3300000.0</td>\n",
       "      <td>2016-11-15</td>\n",
       "    </tr>\n",
       "    <tr>\n",
       "      <th>173</th>\n",
       "      <td>Manhattan</td>\n",
       "      <td>ALPHABET CITY</td>\n",
       "      <td>14 RENTALS - 4-10 UNIT</td>\n",
       "      <td>2A</td>\n",
       "      <td>393</td>\n",
       "      <td>4</td>\n",
       "      <td>S4</td>\n",
       "      <td>165 AVENUE B</td>\n",
       "      <td></td>\n",
       "      <td>10009</td>\n",
       "      <td>4</td>\n",
       "      <td>1</td>\n",
       "      <td>5</td>\n",
       "      <td>2201.0</td>\n",
       "      <td>5608.0</td>\n",
       "      <td>1900</td>\n",
       "      <td>2</td>\n",
       "      <td>S4</td>\n",
       "      <td>7215000.0</td>\n",
       "      <td>2017-01-30</td>\n",
       "    </tr>\n",
       "    <tr>\n",
       "      <th>174</th>\n",
       "      <td>Manhattan</td>\n",
       "      <td>ALPHABET CITY</td>\n",
       "      <td>14 RENTALS - 4-10 UNIT</td>\n",
       "      <td>2A</td>\n",
       "      <td>394</td>\n",
       "      <td>5</td>\n",
       "      <td>S5</td>\n",
       "      <td>183 AVENUE B</td>\n",
       "      <td></td>\n",
       "      <td>10009</td>\n",
       "      <td>5</td>\n",
       "      <td>1</td>\n",
       "      <td>6</td>\n",
       "      <td>1779.0</td>\n",
       "      <td>3713.0</td>\n",
       "      <td>1910</td>\n",
       "      <td>2</td>\n",
       "      <td>S5</td>\n",
       "      <td>4750000.0</td>\n",
       "      <td>2017-04-03</td>\n",
       "    </tr>\n",
       "  </tbody>\n",
       "</table>\n",
       "</div>"
      ],
      "text/plain": [
       "       BOROUGH   NEIGHBORHOOD                      BUILDING CLASS CATEGORY  \\\n",
       "0    Manhattan  ALPHABET CITY  07 RENTALS - WALKUP APARTMENTS                \n",
       "3    Manhattan  ALPHABET CITY  07 RENTALS - WALKUP APARTMENTS                \n",
       "4    Manhattan  ALPHABET CITY  07 RENTALS - WALKUP APARTMENTS                \n",
       "6    Manhattan  ALPHABET CITY  07 RENTALS - WALKUP APARTMENTS                \n",
       "9    Manhattan  ALPHABET CITY  08 RENTALS - ELEVATOR APARTMENTS              \n",
       "11   Manhattan  ALPHABET CITY  08 RENTALS - ELEVATOR APARTMENTS              \n",
       "22   Manhattan  ALPHABET CITY  09 COOPS - WALKUP APARTMENTS                  \n",
       "172  Manhattan  ALPHABET CITY  14 RENTALS - 4-10 UNIT                        \n",
       "173  Manhattan  ALPHABET CITY  14 RENTALS - 4-10 UNIT                        \n",
       "174  Manhattan  ALPHABET CITY  14 RENTALS - 4-10 UNIT                        \n",
       "\n",
       "    TAX CLASS AT PRESENT  BLOCK  LOT BUILDING CLASS AT PRESENT  \\\n",
       "0                     2A    392    6                        C2   \n",
       "3                     2B    402   21                        C4   \n",
       "4                     2A    404   55                        C2   \n",
       "6                     2B    406   32                        C4   \n",
       "9                      2    387  153                        D9   \n",
       "11                    2B    400   21                        D1   \n",
       "22                     2    376   14                        C6   \n",
       "172                   2A    391   19                        S3   \n",
       "173                   2A    393    4                        S4   \n",
       "174                   2A    394    5                        S5   \n",
       "\n",
       "                     ADDRESS APARTMENT NUMBER  ZIP CODE  RESIDENTIAL UNITS  \\\n",
       "0               153 AVENUE B                      10009                  5   \n",
       "3        154 EAST 7TH STREET                      10009                 10   \n",
       "4     301 EAST 10TH   STREET                      10009                  6   \n",
       "6               210 AVENUE B                      10009                  8   \n",
       "9        629 EAST 5TH STREET                      10009                 24   \n",
       "11   530-532 EAST 5TH STREET                      10009                 10   \n",
       "22       244 EAST 7TH STREET                      10009                 24   \n",
       "172    624 EAST 9TH   STREET                      10009                  3   \n",
       "173             165 AVENUE B                      10009                  4   \n",
       "174             183 AVENUE B                      10009                  5   \n",
       "\n",
       "     COMMERCIAL UNITS  TOTAL UNITS  LAND SQUARE FEET  GROSS SQUARE FEET  \\\n",
       "0                   0            5            1633.0             6440.0   \n",
       "3                   0           10            2272.0             6794.0   \n",
       "4                   0            6            2369.0             4615.0   \n",
       "6                   0            8            1750.0             4226.0   \n",
       "9                   0           24            4489.0            18523.0   \n",
       "11                  0           10            3717.0            12350.0   \n",
       "22                  0           24            4131.0            16776.0   \n",
       "172                 1            4            1520.0             3360.0   \n",
       "173                 1            5            2201.0             5608.0   \n",
       "174                 1            6            1779.0             3713.0   \n",
       "\n",
       "     YEAR BUILT  TAX CLASS AT TIME OF SALE BUILDING CLASS AT TIME OF SALE  \\\n",
       "0          1900                          2                             C2   \n",
       "3          1913                          2                             C4   \n",
       "4          1900                          2                             C2   \n",
       "6          1920                          2                             C4   \n",
       "9          1920                          2                             D9   \n",
       "11         2009                          2                             D1   \n",
       "22         1928                          2                             C6   \n",
       "172        1910                          2                             S3   \n",
       "173        1900                          2                             S4   \n",
       "174        1910                          2                             S5   \n",
       "\n",
       "     SALE PRICE  SALE DATE  \n",
       "0     6625000.0 2017-07-19  \n",
       "3     3936272.0 2016-09-23  \n",
       "4     8000000.0 2016-11-17  \n",
       "6     3192840.0 2016-09-23  \n",
       "9    16232000.0 2016-11-07  \n",
       "11   10350000.0 2016-10-17  \n",
       "22   11900000.0 2017-06-21  \n",
       "172   3300000.0 2016-11-15  \n",
       "173   7215000.0 2017-01-30  \n",
       "174   4750000.0 2017-04-03  "
      ]
     },
     "execution_count": 199,
     "metadata": {},
     "output_type": "execute_result"
    }
   ],
   "source": [
    "df.head(10)"
   ]
  },
  {
   "cell_type": "markdown",
   "id": "a62d0470",
   "metadata": {},
   "source": [
    "# A. Measure of Central Tendency : Mean"
   ]
  },
  {
   "cell_type": "markdown",
   "id": "fb00535c",
   "metadata": {},
   "source": [
    "**Question**\\\n",
    "Berapakah harga rata - rata properti berdasarkan tahun dibangunnya? Tampilkan 5 tahun dengan nilai harga rata - rata tertinggi."
   ]
  },
  {
   "cell_type": "markdown",
   "id": "026e414d",
   "metadata": {},
   "source": [
    "**Pre-processing**"
   ]
  },
  {
   "cell_type": "code",
   "execution_count": 200,
   "id": "8cad3408",
   "metadata": {
    "scrolled": true
   },
   "outputs": [],
   "source": [
    "#Membuat pivot table dengan index 'YEAR BUILT', values 'SALE PRICE' dan aggfunc=np.mean dimana np.mean ini akan menghitung nilai rata - rata \n",
    "df_mean = df.pivot_table(\n",
    "    index='YEAR BUILT', \n",
    "    values='SALE PRICE', \n",
    "    aggfunc=np.mean\n",
    ")\n",
    "\n",
    "#Rename kolom 'SALE PRICE' menjadi 'MEAN SALE PRICE'\n",
    "df_mean.rename(columns={'SALE PRICE':'MEAN SALE PRICE'}, inplace=True)\n",
    "\n",
    "#Sort df berdasarkan kolom 'MEAN SALE PRICE'\n",
    "df_mean.sort_values('MEAN SALE PRICE', ascending=False, inplace=True)"
   ]
  },
  {
   "cell_type": "markdown",
   "id": "dcbd5f1d",
   "metadata": {},
   "source": [
    "**Display**"
   ]
  },
  {
   "cell_type": "code",
   "execution_count": 201,
   "id": "890346f0",
   "metadata": {},
   "outputs": [
    {
     "data": {
      "text/html": [
       "<div>\n",
       "<style scoped>\n",
       "    .dataframe tbody tr th:only-of-type {\n",
       "        vertical-align: middle;\n",
       "    }\n",
       "\n",
       "    .dataframe tbody tr th {\n",
       "        vertical-align: top;\n",
       "    }\n",
       "\n",
       "    .dataframe thead th {\n",
       "        text-align: right;\n",
       "    }\n",
       "</style>\n",
       "<table border=\"1\" class=\"dataframe\">\n",
       "  <thead>\n",
       "    <tr style=\"text-align: right;\">\n",
       "      <th></th>\n",
       "      <th>MEAN SALE PRICE</th>\n",
       "    </tr>\n",
       "    <tr>\n",
       "      <th>YEAR BUILT</th>\n",
       "      <th></th>\n",
       "    </tr>\n",
       "  </thead>\n",
       "  <tbody>\n",
       "    <tr>\n",
       "      <th>1966</th>\n",
       "      <td>1.535423e+08</td>\n",
       "    </tr>\n",
       "    <tr>\n",
       "      <th>1969</th>\n",
       "      <td>1.073189e+08</td>\n",
       "    </tr>\n",
       "    <tr>\n",
       "      <th>1918</th>\n",
       "      <td>4.098081e+07</td>\n",
       "    </tr>\n",
       "    <tr>\n",
       "      <th>1902</th>\n",
       "      <td>3.266833e+07</td>\n",
       "    </tr>\n",
       "    <tr>\n",
       "      <th>1962</th>\n",
       "      <td>2.878293e+07</td>\n",
       "    </tr>\n",
       "  </tbody>\n",
       "</table>\n",
       "</div>"
      ],
      "text/plain": [
       "            MEAN SALE PRICE\n",
       "YEAR BUILT                 \n",
       "1966           1.535423e+08\n",
       "1969           1.073189e+08\n",
       "1918           4.098081e+07\n",
       "1902           3.266833e+07\n",
       "1962           2.878293e+07"
      ]
     },
     "execution_count": 201,
     "metadata": {},
     "output_type": "execute_result"
    }
   ],
   "source": [
    "df_mean.head()"
   ]
  },
  {
   "cell_type": "markdown",
   "id": "7c50447d",
   "metadata": {},
   "source": [
    "**Conclusion**"
   ]
  },
  {
   "cell_type": "markdown",
   "id": "900cc695",
   "metadata": {},
   "source": [
    "Dari hasil tersebut dapat dilihat bahwa tahun 1966, 1969, 1918, 1902, 1962 memiliki harga rata - rata properti tertinggi dengan harga:\n",
    "1. 1966 = \\\\$153,542,300\n",
    "2. 1969 = \\\\$107,318,900\n",
    "3. 1918 = \\\\$40,980,810\n",
    "4. 1902 = \\\\$32,668,330\n",
    "5. 1962 = \\\\$28,782,930"
   ]
  },
  {
   "cell_type": "markdown",
   "id": "2a6f6aec",
   "metadata": {},
   "source": [
    "# B. Measure of Central Tendency : Median"
   ]
  },
  {
   "cell_type": "markdown",
   "id": "29a1eeb5",
   "metadata": {},
   "source": [
    "**Question**\\\n",
    "Berapa nilai median harga properti berdasarkan tahun dibangunnya? Tampilkan 5 tahun dengan nilai median teratas."
   ]
  },
  {
   "cell_type": "markdown",
   "id": "45937112",
   "metadata": {},
   "source": [
    "**Pre-processing**"
   ]
  },
  {
   "cell_type": "code",
   "execution_count": 202,
   "id": "ba5db8b5",
   "metadata": {},
   "outputs": [],
   "source": [
    "#Membuat pivot table dengan index 'YEAR BUILT', values 'SALE PRICE' dan aggfunc=np.median dimana np.median ini akan mencari nilai median dari 'SALE PRICE' berdasarkan 'YEAR BUILT'\n",
    "df_median = df.pivot_table(\n",
    "    index='YEAR BUILT', \n",
    "    values='SALE PRICE', \n",
    "    aggfunc=np.median\n",
    ")\n",
    "\n",
    "#Rename kolom 'SALE PRICE' menjadi 'MEDIAN SALE PRICE'\n",
    "df_median.rename(columns={'SALE PRICE':'MEDIAN SALE PRICE'}, inplace=True)\n",
    "\n",
    "#Sort df berdasarkan kolom 'MEDIAN SALE PRICE'\n",
    "df_median.sort_values('MEDIAN SALE PRICE', ascending=False, inplace=True)"
   ]
  },
  {
   "cell_type": "markdown",
   "id": "ba6bccc0",
   "metadata": {},
   "source": [
    "**Display**"
   ]
  },
  {
   "cell_type": "code",
   "execution_count": 203,
   "id": "02015a8d",
   "metadata": {},
   "outputs": [
    {
     "data": {
      "text/html": [
       "<div>\n",
       "<style scoped>\n",
       "    .dataframe tbody tr th:only-of-type {\n",
       "        vertical-align: middle;\n",
       "    }\n",
       "\n",
       "    .dataframe tbody tr th {\n",
       "        vertical-align: top;\n",
       "    }\n",
       "\n",
       "    .dataframe thead th {\n",
       "        text-align: right;\n",
       "    }\n",
       "</style>\n",
       "<table border=\"1\" class=\"dataframe\">\n",
       "  <thead>\n",
       "    <tr style=\"text-align: right;\">\n",
       "      <th></th>\n",
       "      <th>MEDIAN SALE PRICE</th>\n",
       "    </tr>\n",
       "    <tr>\n",
       "      <th>YEAR BUILT</th>\n",
       "      <th></th>\n",
       "    </tr>\n",
       "  </thead>\n",
       "  <tbody>\n",
       "    <tr>\n",
       "      <th>1969</th>\n",
       "      <td>15356725.0</td>\n",
       "    </tr>\n",
       "    <tr>\n",
       "      <th>1844</th>\n",
       "      <td>9200000.0</td>\n",
       "    </tr>\n",
       "    <tr>\n",
       "      <th>1846</th>\n",
       "      <td>6600000.0</td>\n",
       "    </tr>\n",
       "    <tr>\n",
       "      <th>1835</th>\n",
       "      <td>6442500.0</td>\n",
       "    </tr>\n",
       "    <tr>\n",
       "      <th>1852</th>\n",
       "      <td>6375000.0</td>\n",
       "    </tr>\n",
       "  </tbody>\n",
       "</table>\n",
       "</div>"
      ],
      "text/plain": [
       "            MEDIAN SALE PRICE\n",
       "YEAR BUILT                   \n",
       "1969               15356725.0\n",
       "1844                9200000.0\n",
       "1846                6600000.0\n",
       "1835                6442500.0\n",
       "1852                6375000.0"
      ]
     },
     "execution_count": 203,
     "metadata": {},
     "output_type": "execute_result"
    }
   ],
   "source": [
    "df_median.head()"
   ]
  },
  {
   "cell_type": "markdown",
   "id": "f5c3fac0",
   "metadata": {},
   "source": [
    "**Conclusion**"
   ]
  },
  {
   "cell_type": "markdown",
   "id": "7c0e49df",
   "metadata": {},
   "source": [
    "Dari hasil tersebut dapat dilihat bahwa tahun 1969, 1844, 1846, 1835, 1852 memiliki median harga properti tertinggi dengan harga:\n",
    "1. 1969 = \\\\$15,356,725\n",
    "2. 1844 = \\\\$9,200,000\n",
    "3. 1846 = \\\\$6,600,000\n",
    "4. 1835 = \\\\$6,442,500\n",
    "5. 1852 = \\\\$6,375,000"
   ]
  },
  {
   "cell_type": "markdown",
   "id": "622a77e2",
   "metadata": {},
   "source": [
    "# C. Measure of Central Tendency : Mode"
   ]
  },
  {
   "cell_type": "markdown",
   "id": "5f4b3131",
   "metadata": {},
   "source": [
    "**Question**\\\n",
    "Kategori kelas properti apakah yang sering terjual di setiap wilayah?"
   ]
  },
  {
   "cell_type": "markdown",
   "id": "b33292bc",
   "metadata": {},
   "source": [
    "**Pre-processing**"
   ]
  },
  {
   "cell_type": "code",
   "execution_count": 204,
   "id": "7eb02abb",
   "metadata": {},
   "outputs": [],
   "source": [
    "#Membuat pivot table dengan index 'BOROUGH', values 'BUILDING CLASS CATEGORY' dan aggfunc=stats.mode dimana stats.mode ini akan mencari modus dari 'BUILDING CLASS CATEGORY' berdasarkan 'BOROUGH'\n",
    "df_mode = df.pivot_table(\n",
    "    index='BOROUGH', \n",
    "    values='BUILDING CLASS CATEGORY', \n",
    "    aggfunc=stats.mode\n",
    ")\n",
    "\n",
    "#Rename kolom 'BUILDING CLASS CATEGORY' menjadi 'MOST WANTED BUILDING CLASS'\n",
    "df_mode.rename(columns={'BUILDING CLASS CATEGORY':'MOST WANTED BUILDING CLASS'}, inplace=True)"
   ]
  },
  {
   "cell_type": "markdown",
   "id": "fceafaf9",
   "metadata": {},
   "source": [
    "**Display**"
   ]
  },
  {
   "cell_type": "code",
   "execution_count": 205,
   "id": "e684d22f",
   "metadata": {},
   "outputs": [
    {
     "data": {
      "text/html": [
       "<div>\n",
       "<style scoped>\n",
       "    .dataframe tbody tr th:only-of-type {\n",
       "        vertical-align: middle;\n",
       "    }\n",
       "\n",
       "    .dataframe tbody tr th {\n",
       "        vertical-align: top;\n",
       "    }\n",
       "\n",
       "    .dataframe thead th {\n",
       "        text-align: right;\n",
       "    }\n",
       "</style>\n",
       "<table border=\"1\" class=\"dataframe\">\n",
       "  <thead>\n",
       "    <tr style=\"text-align: right;\">\n",
       "      <th></th>\n",
       "      <th>MOST WANTED BUILDING CLASS</th>\n",
       "    </tr>\n",
       "    <tr>\n",
       "      <th>BOROUGH</th>\n",
       "      <th></th>\n",
       "    </tr>\n",
       "  </thead>\n",
       "  <tbody>\n",
       "    <tr>\n",
       "      <th>Bronx</th>\n",
       "      <td>([02 TWO FAMILY DWELLINGS                    ]...</td>\n",
       "    </tr>\n",
       "    <tr>\n",
       "      <th>Brooklyn</th>\n",
       "      <td>([02 TWO FAMILY DWELLINGS                    ]...</td>\n",
       "    </tr>\n",
       "    <tr>\n",
       "      <th>Manhattan</th>\n",
       "      <td>([07 RENTALS - WALKUP APARTMENTS             ]...</td>\n",
       "    </tr>\n",
       "    <tr>\n",
       "      <th>Queens</th>\n",
       "      <td>([01 ONE FAMILY DWELLINGS                    ]...</td>\n",
       "    </tr>\n",
       "    <tr>\n",
       "      <th>Staten Island</th>\n",
       "      <td>([01 ONE FAMILY DWELLINGS                    ]...</td>\n",
       "    </tr>\n",
       "  </tbody>\n",
       "</table>\n",
       "</div>"
      ],
      "text/plain": [
       "                                      MOST WANTED BUILDING CLASS\n",
       "BOROUGH                                                         \n",
       "Bronx          ([02 TWO FAMILY DWELLINGS                    ]...\n",
       "Brooklyn       ([02 TWO FAMILY DWELLINGS                    ]...\n",
       "Manhattan      ([07 RENTALS - WALKUP APARTMENTS             ]...\n",
       "Queens         ([01 ONE FAMILY DWELLINGS                    ]...\n",
       "Staten Island  ([01 ONE FAMILY DWELLINGS                    ]..."
      ]
     },
     "execution_count": 205,
     "metadata": {},
     "output_type": "execute_result"
    }
   ],
   "source": [
    "df_mode"
   ]
  },
  {
   "cell_type": "markdown",
   "id": "c183d7c9",
   "metadata": {},
   "source": [
    "**Conclusion**"
   ]
  },
  {
   "cell_type": "markdown",
   "id": "e873c5ee",
   "metadata": {},
   "source": [
    "Dari hasil diatas dapat dilihat bahwa pada daerah Manhattan lebih laku terjual jenis properti 'RENTALS - WALKUP APARTMENTS' sedangkan wilayah lainnya, yang laku terjual adalah properti kelas 'TWO FAMILY DWELLINGS' dan 'ONE FAMILY DWELLINGS'."
   ]
  },
  {
   "cell_type": "markdown",
   "id": "88519745",
   "metadata": {},
   "source": [
    "# D. Measure of Spread : Range"
   ]
  },
  {
   "cell_type": "markdown",
   "id": "5c0e497b",
   "metadata": {},
   "source": [
    "**Question**\\\n",
    "Berapa range harga properti termurah dengan harga properti termahal disetiap wilayah?"
   ]
  },
  {
   "cell_type": "markdown",
   "id": "cda5ec96",
   "metadata": {},
   "source": [
    "**Pre-processing**"
   ]
  },
  {
   "cell_type": "code",
   "execution_count": 206,
   "id": "446a4bee",
   "metadata": {},
   "outputs": [],
   "source": [
    "#Membuat pivot table dengan index 'BOROUGH', values 'SALE PRICE' dan aggfunc=np.ptp dimana np.ptp ini akan menghasilkan nilai range dari 'SALE PRICE' berdasarkan 'BOROUGH'\n",
    "df_range = df.pivot_table(\n",
    "    index='BOROUGH', \n",
    "    values='SALE PRICE', \n",
    "    aggfunc=np.ptp\n",
    ")\n",
    "\n",
    "#Rename kolom 'SALE PRICE' menjadi 'RANGE SALE PRICE'\n",
    "df_range.rename(columns={'SALE PRICE':'RANGE SALE PRICE'}, inplace=True)"
   ]
  },
  {
   "cell_type": "markdown",
   "id": "5324a474",
   "metadata": {},
   "source": [
    "**Display**"
   ]
  },
  {
   "cell_type": "code",
   "execution_count": 207,
   "id": "c3587750",
   "metadata": {},
   "outputs": [
    {
     "data": {
      "text/html": [
       "<div>\n",
       "<style scoped>\n",
       "    .dataframe tbody tr th:only-of-type {\n",
       "        vertical-align: middle;\n",
       "    }\n",
       "\n",
       "    .dataframe tbody tr th {\n",
       "        vertical-align: top;\n",
       "    }\n",
       "\n",
       "    .dataframe thead th {\n",
       "        text-align: right;\n",
       "    }\n",
       "</style>\n",
       "<table border=\"1\" class=\"dataframe\">\n",
       "  <thead>\n",
       "    <tr style=\"text-align: right;\">\n",
       "      <th></th>\n",
       "      <th>RANGE SALE PRICE</th>\n",
       "    </tr>\n",
       "    <tr>\n",
       "      <th>BOROUGH</th>\n",
       "      <th></th>\n",
       "    </tr>\n",
       "  </thead>\n",
       "  <tbody>\n",
       "    <tr>\n",
       "      <th>Bronx</th>\n",
       "      <td>1.100000e+08</td>\n",
       "    </tr>\n",
       "    <tr>\n",
       "      <th>Brooklyn</th>\n",
       "      <td>1.542500e+08</td>\n",
       "    </tr>\n",
       "    <tr>\n",
       "      <th>Manhattan</th>\n",
       "      <td>2.210000e+09</td>\n",
       "    </tr>\n",
       "    <tr>\n",
       "      <th>Queens</th>\n",
       "      <td>2.575000e+08</td>\n",
       "    </tr>\n",
       "    <tr>\n",
       "      <th>Staten Island</th>\n",
       "      <td>1.190000e+07</td>\n",
       "    </tr>\n",
       "  </tbody>\n",
       "</table>\n",
       "</div>"
      ],
      "text/plain": [
       "               RANGE SALE PRICE\n",
       "BOROUGH                        \n",
       "Bronx              1.100000e+08\n",
       "Brooklyn           1.542500e+08\n",
       "Manhattan          2.210000e+09\n",
       "Queens             2.575000e+08\n",
       "Staten Island      1.190000e+07"
      ]
     },
     "execution_count": 207,
     "metadata": {},
     "output_type": "execute_result"
    }
   ],
   "source": [
    "df_range"
   ]
  },
  {
   "cell_type": "markdown",
   "id": "8f9539a7",
   "metadata": {},
   "source": [
    "**Conclusion**"
   ]
  },
  {
   "cell_type": "markdown",
   "id": "8256baab",
   "metadata": {},
   "source": [
    "Dari hasil diatas dapat dilihat bahwa range harga properti di tiap wilayah adalah :\n",
    "1. Bronx = \\\\$110,000,000\n",
    "2. Brooklyn = \\\\$154,250,000\n",
    "3. Manhattan = \\\\$2,210,000,000\n",
    "4. Queens = \\\\$2,575,000\n",
    "5. Staten Island = \\\\$1,190,000"
   ]
  },
  {
   "cell_type": "markdown",
   "id": "fb4d0faf",
   "metadata": {},
   "source": [
    "# E. Measure of Spread : Variance"
   ]
  },
  {
   "cell_type": "markdown",
   "id": "01e669d1",
   "metadata": {},
   "source": [
    "**Question**\\\n",
    "Berapakah variance harga properti berdasarkan tahun jualnya?"
   ]
  },
  {
   "cell_type": "markdown",
   "id": "ec186b4b",
   "metadata": {},
   "source": [
    "**Pre-processing**"
   ]
  },
  {
   "cell_type": "code",
   "execution_count": 208,
   "id": "cb3a5004",
   "metadata": {},
   "outputs": [],
   "source": [
    "df_variance = df\n",
    "\n",
    "#Membuat kolom bernama 'SALE YEAR' dan diisikan dengan year pada kolom 'SALE DATE'\n",
    "df_variance['SALE YEAR'] = pd.DatetimeIndex(df_variance['SALE DATE']).year\n",
    "\n",
    "#Membuat pivot table dengan index 'SALE YEAR', values 'SALE PRICE' dan aggfunc=statistics.variance dimana statistics.variance ini akan menghasilkan nilai variance dari 'SALE PRICE' berdasarkan 'SALE YEAR'\n",
    "df_variance = df.pivot_table(\n",
    "    index='SALE YEAR', \n",
    "    values='SALE PRICE', \n",
    "    aggfunc=statistics.variance\n",
    ")\n",
    "\n",
    "#Rename kolom 'SALE PRICE' menjadi 'SALE PRICE VARIANCE'\n",
    "df_variance.rename(columns={'SALE PRICE':'SALE PRICE VARIANCE'}, inplace=True)"
   ]
  },
  {
   "cell_type": "markdown",
   "id": "d2125090",
   "metadata": {},
   "source": [
    "**Display**"
   ]
  },
  {
   "cell_type": "code",
   "execution_count": 209,
   "id": "96c41339",
   "metadata": {},
   "outputs": [
    {
     "data": {
      "text/html": [
       "<div>\n",
       "<style scoped>\n",
       "    .dataframe tbody tr th:only-of-type {\n",
       "        vertical-align: middle;\n",
       "    }\n",
       "\n",
       "    .dataframe tbody tr th {\n",
       "        vertical-align: top;\n",
       "    }\n",
       "\n",
       "    .dataframe thead th {\n",
       "        text-align: right;\n",
       "    }\n",
       "</style>\n",
       "<table border=\"1\" class=\"dataframe\">\n",
       "  <thead>\n",
       "    <tr style=\"text-align: right;\">\n",
       "      <th></th>\n",
       "      <th>SALE PRICE VARIANCE</th>\n",
       "    </tr>\n",
       "    <tr>\n",
       "      <th>SALE YEAR</th>\n",
       "      <th></th>\n",
       "    </tr>\n",
       "  </thead>\n",
       "  <tbody>\n",
       "    <tr>\n",
       "      <th>2016</th>\n",
       "      <td>1.431988e+14</td>\n",
       "    </tr>\n",
       "    <tr>\n",
       "      <th>2017</th>\n",
       "      <td>3.699009e+14</td>\n",
       "    </tr>\n",
       "  </tbody>\n",
       "</table>\n",
       "</div>"
      ],
      "text/plain": [
       "           SALE PRICE VARIANCE\n",
       "SALE YEAR                     \n",
       "2016              1.431988e+14\n",
       "2017              3.699009e+14"
      ]
     },
     "execution_count": 209,
     "metadata": {},
     "output_type": "execute_result"
    }
   ],
   "source": [
    "df_variance"
   ]
  },
  {
   "cell_type": "markdown",
   "id": "a6c30107",
   "metadata": {},
   "source": [
    "**Conclusion**"
   ]
  },
  {
   "cell_type": "markdown",
   "id": "7794a032",
   "metadata": {},
   "source": [
    "Dari hasil diatas didapatkan bahwa pada tahun 2016 variance harga propertinya adalah 1.431988e+14 dan tahun 2017 variance harga propertinya adalah 3.699009e+14"
   ]
  },
  {
   "cell_type": "markdown",
   "id": "bd2e8bed",
   "metadata": {},
   "source": [
    "# F. Measure of Spread : Standard Deviation"
   ]
  },
  {
   "cell_type": "markdown",
   "id": "b595171f",
   "metadata": {},
   "source": [
    "**Question**\\\n",
    "Berapakah standar deviasi harga properti berdasarkan tahun jualnya?"
   ]
  },
  {
   "cell_type": "markdown",
   "id": "f04b40c1",
   "metadata": {},
   "source": [
    "**Pre-processing**"
   ]
  },
  {
   "cell_type": "code",
   "execution_count": 210,
   "id": "91c3c7f8",
   "metadata": {},
   "outputs": [],
   "source": [
    "df_sd = df\n",
    "\n",
    "#Membuat kolom bernama 'SALE YEAR' dan diisikan dengan year pada kolom 'SALE DATE'\n",
    "df_sd['SALE YEAR'] = pd.DatetimeIndex(df_sd['SALE DATE']).year\n",
    "\n",
    "#Membuat pivot table dengan index 'SALE YEAR', values 'SALE PRICE' dan aggfunc=statistics.stdev dimana statistics.stdev ini akan menghasilkan nilai standar deviasi dari 'SALE PRICE' berdasarkan 'SALE YEAR'\n",
    "df_sd = df.pivot_table(\n",
    "    index='SALE YEAR', \n",
    "    values='SALE PRICE', \n",
    "    aggfunc=statistics.stdev\n",
    ")\n",
    "\n",
    "#Rename kolom 'SALE PRICE' menjadi 'SALE PRICE S.D.'\n",
    "df_sd.rename(columns={'SALE PRICE':'SALE PRICE S.D.'}, inplace=True)"
   ]
  },
  {
   "cell_type": "markdown",
   "id": "56737f13",
   "metadata": {},
   "source": [
    "**Display**"
   ]
  },
  {
   "cell_type": "code",
   "execution_count": 211,
   "id": "603e6e96",
   "metadata": {},
   "outputs": [
    {
     "data": {
      "text/html": [
       "<div>\n",
       "<style scoped>\n",
       "    .dataframe tbody tr th:only-of-type {\n",
       "        vertical-align: middle;\n",
       "    }\n",
       "\n",
       "    .dataframe tbody tr th {\n",
       "        vertical-align: top;\n",
       "    }\n",
       "\n",
       "    .dataframe thead th {\n",
       "        text-align: right;\n",
       "    }\n",
       "</style>\n",
       "<table border=\"1\" class=\"dataframe\">\n",
       "  <thead>\n",
       "    <tr style=\"text-align: right;\">\n",
       "      <th></th>\n",
       "      <th>SALE PRICE S.D.</th>\n",
       "    </tr>\n",
       "    <tr>\n",
       "      <th>SALE YEAR</th>\n",
       "      <th></th>\n",
       "    </tr>\n",
       "  </thead>\n",
       "  <tbody>\n",
       "    <tr>\n",
       "      <th>2016</th>\n",
       "      <td>1.196657e+07</td>\n",
       "    </tr>\n",
       "    <tr>\n",
       "      <th>2017</th>\n",
       "      <td>1.923281e+07</td>\n",
       "    </tr>\n",
       "  </tbody>\n",
       "</table>\n",
       "</div>"
      ],
      "text/plain": [
       "           SALE PRICE S.D.\n",
       "SALE YEAR                 \n",
       "2016          1.196657e+07\n",
       "2017          1.923281e+07"
      ]
     },
     "execution_count": 211,
     "metadata": {},
     "output_type": "execute_result"
    }
   ],
   "source": [
    "df_sd"
   ]
  },
  {
   "cell_type": "markdown",
   "id": "92542154",
   "metadata": {},
   "source": [
    "**Conclusion**"
   ]
  },
  {
   "cell_type": "markdown",
   "id": "a89c87e0",
   "metadata": {},
   "source": [
    "Dari hasil diatas didapatkan bahwa pada tahun 2016 standar deviasi harga propertinya adalah 1.196657e+07 dan tahun 2017 standar deviasi harga propertinya adalah 1.923281e+07"
   ]
  },
  {
   "cell_type": "markdown",
   "id": "c707531d",
   "metadata": {},
   "source": [
    "# G. Probability Distributions"
   ]
  },
  {
   "cell_type": "markdown",
   "id": "b38113ca",
   "metadata": {},
   "source": [
    "**Question**\\\n",
    "Bagaimana bentuk distribusi harga properti diantara \\\\$1,000,000 - \\\\$5,000,000 yang terjual pada tahun 2017?"
   ]
  },
  {
   "cell_type": "markdown",
   "id": "cdee9b8c",
   "metadata": {},
   "source": [
    "**Pre-processing**"
   ]
  },
  {
   "cell_type": "code",
   "execution_count": 212,
   "id": "876a7f48",
   "metadata": {},
   "outputs": [],
   "source": [
    "df_pd = df\n",
    "\n",
    "#Membuat kolom bernama 'SALE YEAR' dan diisikan dengan year pada kolom 'SALE DATE'\n",
    "df_pd['SALE YEAR'] = pd.DatetimeIndex(df_pd['SALE DATE']).year\n",
    "\n",
    "#Memfilter data dimana kolom 'SALE YEAR' yang diambil harus bernilai 2017, kolom 'SALE PRICE' yang diambil harus diantara sama dengan 1000000 - 5000000\n",
    "df_pd = df_pd[\n",
    "    (df_pd['SALE YEAR'] == 2017) & \n",
    "    (df_pd['SALE PRICE'] >= 1000000) &\n",
    "    (df_pd['SALE PRICE'] <= 5000000)\n",
    "]['SALE PRICE']"
   ]
  },
  {
   "cell_type": "markdown",
   "id": "a3c8cad3",
   "metadata": {},
   "source": [
    "**Display**"
   ]
  },
  {
   "cell_type": "code",
   "execution_count": 213,
   "id": "96d1baa2",
   "metadata": {},
   "outputs": [
    {
     "data": {
      "image/png": "[encoded data removed]",
      "text/plain": [
       "<Figure size 360x360 with 1 Axes>"
      ]
     },
     "metadata": {},
     "output_type": "display_data"
    }
   ],
   "source": [
    "ax = sns.displot(\n",
    "    df_pd,\n",
    "    kde=True,\n",
    "    bins=100,\n",
    "    color='skyblue')"
   ]
  },
  {
   "cell_type": "markdown",
   "id": "f4477575",
   "metadata": {},
   "source": [
    "**Conclusion**"
   ]
  },
  {
   "cell_type": "markdown",
   "id": "05c5f82d",
   "metadata": {},
   "source": [
    "Distribusi diatas merupakan Poisson Distribution dikarenakan menggunakan data diskrit dan juga dikarenakan pada data ini ingin dicari banyaknya properti terjual berdasarkan harga. Pada hasil grafik tersebut dapat dilihat bahwa properti dengan harga dari \\\\$1,000,000 - \\\\$1,500,000 memiliki kenaikan jumlah terjual, dan dari \\\\$1,500,000 - \\\\$5,000,000 memiliki jumlah terjual yang makin menurun. Dari ini bisa disimpulkan bahwa semakin mahal harga properti maka semakin sedikit jumlah properti tersebut yang terjual."
   ]
  },
  {
   "cell_type": "markdown",
   "id": "5179217e",
   "metadata": {},
   "source": [
    "# H. Confidence Intervals"
   ]
  },
  {
   "cell_type": "markdown",
   "id": "d5018a1f",
   "metadata": {},
   "source": [
    "**Question**\\\n",
    "Dari hasil-hasil sebelumnya, 95% kemungkinan bahwa Manhattan menjual properti dengan harga yang mahal. Berapakah true mean harga properti pada Manhattan?"
   ]
  },
  {
   "cell_type": "markdown",
   "id": "4cecaae4",
   "metadata": {},
   "source": [
    "**Pre-processing**"
   ]
  },
  {
   "cell_type": "code",
   "execution_count": 228,
   "id": "078624ae",
   "metadata": {},
   "outputs": [
    {
     "data": {
      "text/plain": [
       "(13108941.549536305, 23998615.19946768)"
      ]
     },
     "execution_count": 228,
     "metadata": {},
     "output_type": "execute_result"
    }
   ],
   "source": [
    "#Ambil mean, standar deviasi, dan size dari 'SALE PRICE' berdasarkan 'BOROUGH'\n",
    "df_ci = df.groupby('BOROUGH').agg({'SALE PRICE':[np.mean, np.std, np.size]})"
   ]
  },
  {
   "cell_type": "markdown",
   "id": "b4e9923a",
   "metadata": {},
   "source": [
    "**Statistical Method**"
   ]
  },
  {
   "cell_type": "code",
   "execution_count": 229,
   "id": "f510ca4e",
   "metadata": {},
   "outputs": [
    {
     "data": {
      "text/plain": [
       "(13108941.549536305, 23998615.19946768)"
      ]
     },
     "execution_count": 229,
     "metadata": {},
     "output_type": "execute_result"
    }
   ],
   "source": [
    "mean = df_ci.loc['Manhattan']['SALE PRICE']['mean'] #Ambil nilai mean pada Manhattan\n",
    "sd = df_ci.loc['Manhattan']['SALE PRICE']['std'] #Ambil nilai std pada Manhattan\n",
    "n = df_ci.loc['Manhattan']['SALE PRICE']['size'] #Ambil nilai size pada Manhattan\n",
    "z = 1.96 #Diambil berdasarkan tingkat confidence sebesar 95%\n",
    "\n",
    "#Mencari standar error\n",
    "se = sd / np.sqrt(n)\n",
    "\n",
    "#Mencari CI\n",
    "lcb = mean - z * se\n",
    "ucb = mean + z * se\n",
    "lcb,ucb"
   ]
  },
  {
   "cell_type": "markdown",
   "id": "79078def",
   "metadata": {},
   "source": [
    "**Conclusion**"
   ]
  },
  {
   "cell_type": "markdown",
   "id": "1ac563bb",
   "metadata": {},
   "source": [
    "True mean harga properti pada Manhattan berada diantara \\\\$13,108,941 - \\\\$23,998,615"
   ]
  },
  {
   "cell_type": "markdown",
   "id": "15f7c8c8",
   "metadata": {},
   "source": [
    "# I. Hypothesis Testing"
   ]
  },
  {
   "cell_type": "markdown",
   "id": "725c8f89",
   "metadata": {},
   "source": [
    "**Question**\\\n",
    "Dengan mempertimbangkan data dan hasil sebelumnya, apakah wilayah Bronx memiliki rata - rata harga properti yang jauh lebih tinggi dibandingkan wilayah Brooklyn?\\\n",
    "Null Hypothesis        : μ1 = μ2\\\n",
    "Alternative Hypothesis : μ1 ≠ μ2"
   ]
  },
  {
   "cell_type": "markdown",
   "id": "60c966eb",
   "metadata": {},
   "source": [
    "**Pre-processing**"
   ]
  },
  {
   "cell_type": "code",
   "execution_count": 237,
   "id": "14b8f056",
   "metadata": {},
   "outputs": [
    {
     "data": {
      "text/plain": [
       "(-5.346661980448331, 8.959110455070448e-08)"
      ]
     },
     "execution_count": 237,
     "metadata": {},
     "output_type": "execute_result"
    }
   ],
   "source": [
    "df_bronx = df[df['BOROUGH'] == 'Bronx']\n",
    "df_brooklyn = df[df['BOROUGH'] == 'Brooklyn']\n",
    "\n",
    "n1 = len(df_bronx)\n",
    "mu1 = df_bronx['SALE PRICE'].mean()\n",
    "sd1 = df_bronx['SALE PRICE'].std()\n",
    "\n",
    "n2 = len(df_brooklyn)\n",
    "mu2 = df_brooklyn['SALE PRICE'].mean()\n",
    "sd2 = df_brooklyn['SALE PRICE'].std()\n",
    "\n",
    "sm.stats.ztest(df_bronx['SALE PRICE'], df_brooklyn['SALE PRICE'], alternative='two-sided')"
   ]
  },
  {
   "cell_type": "markdown",
   "id": "bc30dfe8",
   "metadata": {},
   "source": [
    "**Conclusion**"
   ]
  },
  {
   "cell_type": "markdown",
   "id": "d6b8bb33",
   "metadata": {},
   "source": [
    "Karena p-value nya sangat kecil, dapat direject Null Hypothesis nya dan dapat disimpulkan bahwa rata - rata harga properti pada Bronx dan Brooklyn memiliki perbedaan yang signifikan."
   ]
  },
  {
   "cell_type": "markdown",
   "id": "87f752ee",
   "metadata": {},
   "source": [
    "# Overall Analysis"
   ]
  },
  {
   "cell_type": "markdown",
   "id": "fcc8339c",
   "metadata": {},
   "source": [
    "Dari hasil - hasil yang sudah didapatkan dapat disimpulkan bahwa :\n",
    "1. Manhattan memiliki harga properti yang tertinggi.\n",
    "2. Bronx dan Brooklyn ternyata memiliki perbedaan rata - rata harga yang signifikan.\n",
    "3. Pada tahun 2017, properti dengan harga sekitaran \\\\$1,000,000 - \\\\$5,000,000 terjual paling banyak pada harga \\\\~\\\\$1,500,000.\n",
    "4. Properti yang dibangun pada tahun 1960an memiliki rata - rata harga jual yang tinggi."
   ]
  },
  {
   "cell_type": "code",
   "execution_count": null,
   "id": "5fc6651c",
   "metadata": {},
   "outputs": [],
   "source": []
  }
 ],
 "metadata": {
  "kernelspec": {
   "display_name": "Python 3 (ipykernel)",
   "language": "python",
   "name": "python3"
  },
  "language_info": {
   "codemirror_mode": {
    "name": "ipython",
    "version": 3
   },
   "file_extension": ".py",
   "mimetype": "text/x-python",
   "name": "python",
   "nbconvert_exporter": "python",
   "pygments_lexer": "ipython3",
   "version": "3.9.12"
  },
  "toc": {
   "base_numbering": 1,
   "nav_menu": {},
   "number_sections": true,
   "sideBar": true,
   "skip_h1_title": false,
   "title_cell": "Table of Contents",
   "title_sidebar": "Contents",
   "toc_cell": false,
   "toc_position": {},
   "toc_section_display": true,
   "toc_window_display": false
  }
 },
 "nbformat": 4,
 "nbformat_minor": 5
}
