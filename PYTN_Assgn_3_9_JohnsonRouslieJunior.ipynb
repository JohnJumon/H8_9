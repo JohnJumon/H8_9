{
 "cells": [
  {
   "cell_type": "markdown",
   "id": "1ac2aa67",
   "metadata": {},
   "source": [
    "**Nama**    : Johnson Rouslie Junior\\\n",
    "**Kelas**   : PYTN-KS09\\\n",
    "**Absensi** : 003"
   ]
  },
  {
   "cell_type": "markdown",
   "id": "243933be",
   "metadata": {},
   "source": [
    "# Import Libraries"
   ]
  },
  {
   "cell_type": "code",
   "execution_count": 205,
   "id": "2a00dae2",
   "metadata": {},
   "outputs": [],
   "source": [
    "import pandas as pd\n",
    "import numpy as np\n",
    "import matplotlib as mpl\n",
    "import matplotlib.pyplot as plt\n",
    "import seaborn as sns\n",
    "from sklearn.linear_model import LogisticRegression\n",
    "from sklearn.neighbors import KNeighborsClassifier\n",
    "from sklearn import svm\n",
    "from sklearn.tree import DecisionTreeClassifier\n",
    "from sklearn.ensemble import RandomForestClassifier\n",
    "from sklearn.ensemble import ExtraTreesClassifier\n",
    "from sklearn.naive_bayes import GaussianNB\n",
    "from sklearn.metrics import confusion_matrix, classification_report, accuracy_score\n",
    "from sklearn.model_selection import train_test_split\n",
    "from sklearn import preprocessing"
   ]
  },
  {
   "cell_type": "markdown",
   "id": "2e007ac9",
   "metadata": {},
   "source": [
    "# Read CSV"
   ]
  },
  {
   "cell_type": "code",
   "execution_count": 206,
   "id": "90024fa7",
   "metadata": {},
   "outputs": [
    {
     "data": {
      "text/html": [
       "<div>\n",
       "<style scoped>\n",
       "    .dataframe tbody tr th:only-of-type {\n",
       "        vertical-align: middle;\n",
       "    }\n",
       "\n",
       "    .dataframe tbody tr th {\n",
       "        vertical-align: top;\n",
       "    }\n",
       "\n",
       "    .dataframe thead th {\n",
       "        text-align: right;\n",
       "    }\n",
       "</style>\n",
       "<table border=\"1\" class=\"dataframe\">\n",
       "  <thead>\n",
       "    <tr style=\"text-align: right;\">\n",
       "      <th></th>\n",
       "      <th>age</th>\n",
       "      <th>job</th>\n",
       "      <th>marital</th>\n",
       "      <th>education</th>\n",
       "      <th>default</th>\n",
       "      <th>balance</th>\n",
       "      <th>housing</th>\n",
       "      <th>loan</th>\n",
       "      <th>contact</th>\n",
       "      <th>day</th>\n",
       "      <th>month</th>\n",
       "      <th>duration</th>\n",
       "      <th>campaign</th>\n",
       "      <th>pdays</th>\n",
       "      <th>previous</th>\n",
       "      <th>poutcome</th>\n",
       "      <th>y</th>\n",
       "    </tr>\n",
       "  </thead>\n",
       "  <tbody>\n",
       "    <tr>\n",
       "      <th>0</th>\n",
       "      <td>30</td>\n",
       "      <td>unemployed</td>\n",
       "      <td>married</td>\n",
       "      <td>primary</td>\n",
       "      <td>no</td>\n",
       "      <td>1787</td>\n",
       "      <td>no</td>\n",
       "      <td>no</td>\n",
       "      <td>cellular</td>\n",
       "      <td>19</td>\n",
       "      <td>oct</td>\n",
       "      <td>79</td>\n",
       "      <td>1</td>\n",
       "      <td>-1</td>\n",
       "      <td>0</td>\n",
       "      <td>unknown</td>\n",
       "      <td>no</td>\n",
       "    </tr>\n",
       "    <tr>\n",
       "      <th>1</th>\n",
       "      <td>33</td>\n",
       "      <td>services</td>\n",
       "      <td>married</td>\n",
       "      <td>secondary</td>\n",
       "      <td>no</td>\n",
       "      <td>4789</td>\n",
       "      <td>yes</td>\n",
       "      <td>yes</td>\n",
       "      <td>cellular</td>\n",
       "      <td>11</td>\n",
       "      <td>may</td>\n",
       "      <td>220</td>\n",
       "      <td>1</td>\n",
       "      <td>339</td>\n",
       "      <td>4</td>\n",
       "      <td>failure</td>\n",
       "      <td>no</td>\n",
       "    </tr>\n",
       "    <tr>\n",
       "      <th>2</th>\n",
       "      <td>35</td>\n",
       "      <td>management</td>\n",
       "      <td>single</td>\n",
       "      <td>tertiary</td>\n",
       "      <td>no</td>\n",
       "      <td>1350</td>\n",
       "      <td>yes</td>\n",
       "      <td>no</td>\n",
       "      <td>cellular</td>\n",
       "      <td>16</td>\n",
       "      <td>apr</td>\n",
       "      <td>185</td>\n",
       "      <td>1</td>\n",
       "      <td>330</td>\n",
       "      <td>1</td>\n",
       "      <td>failure</td>\n",
       "      <td>no</td>\n",
       "    </tr>\n",
       "    <tr>\n",
       "      <th>3</th>\n",
       "      <td>30</td>\n",
       "      <td>management</td>\n",
       "      <td>married</td>\n",
       "      <td>tertiary</td>\n",
       "      <td>no</td>\n",
       "      <td>1476</td>\n",
       "      <td>yes</td>\n",
       "      <td>yes</td>\n",
       "      <td>unknown</td>\n",
       "      <td>3</td>\n",
       "      <td>jun</td>\n",
       "      <td>199</td>\n",
       "      <td>4</td>\n",
       "      <td>-1</td>\n",
       "      <td>0</td>\n",
       "      <td>unknown</td>\n",
       "      <td>no</td>\n",
       "    </tr>\n",
       "    <tr>\n",
       "      <th>4</th>\n",
       "      <td>59</td>\n",
       "      <td>blue-collar</td>\n",
       "      <td>married</td>\n",
       "      <td>secondary</td>\n",
       "      <td>no</td>\n",
       "      <td>0</td>\n",
       "      <td>yes</td>\n",
       "      <td>no</td>\n",
       "      <td>unknown</td>\n",
       "      <td>5</td>\n",
       "      <td>may</td>\n",
       "      <td>226</td>\n",
       "      <td>1</td>\n",
       "      <td>-1</td>\n",
       "      <td>0</td>\n",
       "      <td>unknown</td>\n",
       "      <td>no</td>\n",
       "    </tr>\n",
       "  </tbody>\n",
       "</table>\n",
       "</div>"
      ],
      "text/plain": [
       "   age          job  marital  education default  balance housing loan  \\\n",
       "0   30   unemployed  married    primary      no     1787      no   no   \n",
       "1   33     services  married  secondary      no     4789     yes  yes   \n",
       "2   35   management   single   tertiary      no     1350     yes   no   \n",
       "3   30   management  married   tertiary      no     1476     yes  yes   \n",
       "4   59  blue-collar  married  secondary      no        0     yes   no   \n",
       "\n",
       "    contact  day month  duration  campaign  pdays  previous poutcome   y  \n",
       "0  cellular   19   oct        79         1     -1         0  unknown  no  \n",
       "1  cellular   11   may       220         1    339         4  failure  no  \n",
       "2  cellular   16   apr       185         1    330         1  failure  no  \n",
       "3   unknown    3   jun       199         4     -1         0  unknown  no  \n",
       "4   unknown    5   may       226         1     -1         0  unknown  no  "
      ]
     },
     "execution_count": 206,
     "metadata": {},
     "output_type": "execute_result"
    }
   ],
   "source": [
    "bank_csv = pd.read_csv('dataset/bank.csv', delimiter=';')\n",
    "bank_csv.head()"
   ]
  },
  {
   "cell_type": "markdown",
   "id": "544fe310",
   "metadata": {},
   "source": [
    "# Exploratory & Cleaning Data"
   ]
  },
  {
   "cell_type": "markdown",
   "id": "adf66871",
   "metadata": {},
   "source": [
    "Pertama akan dilihat shape dari dataset ini terlebih dahulu."
   ]
  },
  {
   "cell_type": "code",
   "execution_count": 207,
   "id": "7b6fcb73",
   "metadata": {},
   "outputs": [
    {
     "data": {
      "text/plain": [
       "(4521, 17)"
      ]
     },
     "execution_count": 207,
     "metadata": {},
     "output_type": "execute_result"
    }
   ],
   "source": [
    "bank_csv.shape"
   ]
  },
  {
   "cell_type": "markdown",
   "id": "91630edf",
   "metadata": {},
   "source": [
    "Dataset ini memiliki 4521 baris data dan 17 kolom. Setelah itu akan dilihat list kolom yang ada pada dataset dan juga akan dicek apakah data type value pada tiap kolom sudah tepat."
   ]
  },
  {
   "cell_type": "code",
   "execution_count": 208,
   "id": "7b30ab17",
   "metadata": {},
   "outputs": [
    {
     "name": "stdout",
     "output_type": "stream",
     "text": [
      "<class 'pandas.core.frame.DataFrame'>\n",
      "RangeIndex: 4521 entries, 0 to 4520\n",
      "Data columns (total 17 columns):\n",
      " #   Column     Non-Null Count  Dtype \n",
      "---  ------     --------------  ----- \n",
      " 0   age        4521 non-null   int64 \n",
      " 1   job        4521 non-null   object\n",
      " 2   marital    4521 non-null   object\n",
      " 3   education  4521 non-null   object\n",
      " 4   default    4521 non-null   object\n",
      " 5   balance    4521 non-null   int64 \n",
      " 6   housing    4521 non-null   object\n",
      " 7   loan       4521 non-null   object\n",
      " 8   contact    4521 non-null   object\n",
      " 9   day        4521 non-null   int64 \n",
      " 10  month      4521 non-null   object\n",
      " 11  duration   4521 non-null   int64 \n",
      " 12  campaign   4521 non-null   int64 \n",
      " 13  pdays      4521 non-null   int64 \n",
      " 14  previous   4521 non-null   int64 \n",
      " 15  poutcome   4521 non-null   object\n",
      " 16  y          4521 non-null   object\n",
      "dtypes: int64(7), object(10)\n",
      "memory usage: 600.6+ KB\n"
     ]
    }
   ],
   "source": [
    "bank_csv.info()"
   ]
  },
  {
   "cell_type": "markdown",
   "id": "6c9bd680",
   "metadata": {},
   "source": [
    "Setelah dilihat bahwa data type beberapa kolom adalah object dan bukan categorical seperti deskripsi datasetnya, maka ubah data type object tersebut menjadi categorical."
   ]
  },
  {
   "cell_type": "code",
   "execution_count": 209,
   "id": "f77bfb0a",
   "metadata": {},
   "outputs": [
    {
     "name": "stdout",
     "output_type": "stream",
     "text": [
      "<class 'pandas.core.frame.DataFrame'>\n",
      "RangeIndex: 4521 entries, 0 to 4520\n",
      "Data columns (total 17 columns):\n",
      " #   Column     Non-Null Count  Dtype   \n",
      "---  ------     --------------  -----   \n",
      " 0   age        4521 non-null   int64   \n",
      " 1   job        4521 non-null   category\n",
      " 2   marital    4521 non-null   category\n",
      " 3   education  4521 non-null   category\n",
      " 4   default    4521 non-null   category\n",
      " 5   balance    4521 non-null   int64   \n",
      " 6   housing    4521 non-null   category\n",
      " 7   loan       4521 non-null   category\n",
      " 8   contact    4521 non-null   category\n",
      " 9   day        4521 non-null   int64   \n",
      " 10  month      4521 non-null   category\n",
      " 11  duration   4521 non-null   int64   \n",
      " 12  campaign   4521 non-null   int64   \n",
      " 13  pdays      4521 non-null   int64   \n",
      " 14  previous   4521 non-null   int64   \n",
      " 15  poutcome   4521 non-null   category\n",
      " 16  y          4521 non-null   category\n",
      "dtypes: category(10), int64(7)\n",
      "memory usage: 293.4 KB\n"
     ]
    }
   ],
   "source": [
    "obj_col_list = bank_csv.columns[bank_csv.dtypes == 'object'].to_list()\n",
    "for col in obj_col_list:\n",
    "    bank_csv[col] = bank_csv[col].astype('category')\n",
    "bank_csv.info()"
   ]
  },
  {
   "cell_type": "markdown",
   "id": "31c17706",
   "metadata": {},
   "source": [
    "Sekarang semua kolom telah memiliki data type yang tepat, maka akan dicek apakah ada missing values di dataset tersebut."
   ]
  },
  {
   "cell_type": "code",
   "execution_count": 210,
   "id": "26114f29",
   "metadata": {},
   "outputs": [
    {
     "data": {
      "text/plain": [
       "age          0\n",
       "job          0\n",
       "marital      0\n",
       "education    0\n",
       "default      0\n",
       "balance      0\n",
       "housing      0\n",
       "loan         0\n",
       "contact      0\n",
       "day          0\n",
       "month        0\n",
       "duration     0\n",
       "campaign     0\n",
       "pdays        0\n",
       "previous     0\n",
       "poutcome     0\n",
       "y            0\n",
       "dtype: int64"
      ]
     },
     "execution_count": 210,
     "metadata": {},
     "output_type": "execute_result"
    }
   ],
   "source": [
    "bank_csv.isnull().sum()"
   ]
  },
  {
   "cell_type": "markdown",
   "id": "609503b4",
   "metadata": {},
   "source": [
    "Terlihat bahwa tidak ada missing values pada dataset tersebut. Sekarang akan dicek hasil statistik sederhana dari dataset tersebut untuk melihat apakah ada keanehan pada dataset."
   ]
  },
  {
   "cell_type": "code",
   "execution_count": 211,
   "id": "224f1477",
   "metadata": {},
   "outputs": [
    {
     "data": {
      "text/html": [
       "<div>\n",
       "<style scoped>\n",
       "    .dataframe tbody tr th:only-of-type {\n",
       "        vertical-align: middle;\n",
       "    }\n",
       "\n",
       "    .dataframe tbody tr th {\n",
       "        vertical-align: top;\n",
       "    }\n",
       "\n",
       "    .dataframe thead th {\n",
       "        text-align: right;\n",
       "    }\n",
       "</style>\n",
       "<table border=\"1\" class=\"dataframe\">\n",
       "  <thead>\n",
       "    <tr style=\"text-align: right;\">\n",
       "      <th></th>\n",
       "      <th>age</th>\n",
       "      <th>balance</th>\n",
       "      <th>day</th>\n",
       "      <th>duration</th>\n",
       "      <th>campaign</th>\n",
       "      <th>pdays</th>\n",
       "      <th>previous</th>\n",
       "    </tr>\n",
       "  </thead>\n",
       "  <tbody>\n",
       "    <tr>\n",
       "      <th>count</th>\n",
       "      <td>4521.000000</td>\n",
       "      <td>4521.000000</td>\n",
       "      <td>4521.000000</td>\n",
       "      <td>4521.000000</td>\n",
       "      <td>4521.000000</td>\n",
       "      <td>4521.000000</td>\n",
       "      <td>4521.000000</td>\n",
       "    </tr>\n",
       "    <tr>\n",
       "      <th>mean</th>\n",
       "      <td>41.170095</td>\n",
       "      <td>1422.657819</td>\n",
       "      <td>15.915284</td>\n",
       "      <td>263.961292</td>\n",
       "      <td>2.793630</td>\n",
       "      <td>39.766645</td>\n",
       "      <td>0.542579</td>\n",
       "    </tr>\n",
       "    <tr>\n",
       "      <th>std</th>\n",
       "      <td>10.576211</td>\n",
       "      <td>3009.638142</td>\n",
       "      <td>8.247667</td>\n",
       "      <td>259.856633</td>\n",
       "      <td>3.109807</td>\n",
       "      <td>100.121124</td>\n",
       "      <td>1.693562</td>\n",
       "    </tr>\n",
       "    <tr>\n",
       "      <th>min</th>\n",
       "      <td>19.000000</td>\n",
       "      <td>-3313.000000</td>\n",
       "      <td>1.000000</td>\n",
       "      <td>4.000000</td>\n",
       "      <td>1.000000</td>\n",
       "      <td>-1.000000</td>\n",
       "      <td>0.000000</td>\n",
       "    </tr>\n",
       "    <tr>\n",
       "      <th>25%</th>\n",
       "      <td>33.000000</td>\n",
       "      <td>69.000000</td>\n",
       "      <td>9.000000</td>\n",
       "      <td>104.000000</td>\n",
       "      <td>1.000000</td>\n",
       "      <td>-1.000000</td>\n",
       "      <td>0.000000</td>\n",
       "    </tr>\n",
       "    <tr>\n",
       "      <th>50%</th>\n",
       "      <td>39.000000</td>\n",
       "      <td>444.000000</td>\n",
       "      <td>16.000000</td>\n",
       "      <td>185.000000</td>\n",
       "      <td>2.000000</td>\n",
       "      <td>-1.000000</td>\n",
       "      <td>0.000000</td>\n",
       "    </tr>\n",
       "    <tr>\n",
       "      <th>75%</th>\n",
       "      <td>49.000000</td>\n",
       "      <td>1480.000000</td>\n",
       "      <td>21.000000</td>\n",
       "      <td>329.000000</td>\n",
       "      <td>3.000000</td>\n",
       "      <td>-1.000000</td>\n",
       "      <td>0.000000</td>\n",
       "    </tr>\n",
       "    <tr>\n",
       "      <th>max</th>\n",
       "      <td>87.000000</td>\n",
       "      <td>71188.000000</td>\n",
       "      <td>31.000000</td>\n",
       "      <td>3025.000000</td>\n",
       "      <td>50.000000</td>\n",
       "      <td>871.000000</td>\n",
       "      <td>25.000000</td>\n",
       "    </tr>\n",
       "  </tbody>\n",
       "</table>\n",
       "</div>"
      ],
      "text/plain": [
       "               age       balance          day     duration     campaign  \\\n",
       "count  4521.000000   4521.000000  4521.000000  4521.000000  4521.000000   \n",
       "mean     41.170095   1422.657819    15.915284   263.961292     2.793630   \n",
       "std      10.576211   3009.638142     8.247667   259.856633     3.109807   \n",
       "min      19.000000  -3313.000000     1.000000     4.000000     1.000000   \n",
       "25%      33.000000     69.000000     9.000000   104.000000     1.000000   \n",
       "50%      39.000000    444.000000    16.000000   185.000000     2.000000   \n",
       "75%      49.000000   1480.000000    21.000000   329.000000     3.000000   \n",
       "max      87.000000  71188.000000    31.000000  3025.000000    50.000000   \n",
       "\n",
       "             pdays     previous  \n",
       "count  4521.000000  4521.000000  \n",
       "mean     39.766645     0.542579  \n",
       "std     100.121124     1.693562  \n",
       "min      -1.000000     0.000000  \n",
       "25%      -1.000000     0.000000  \n",
       "50%      -1.000000     0.000000  \n",
       "75%      -1.000000     0.000000  \n",
       "max     871.000000    25.000000  "
      ]
     },
     "execution_count": 211,
     "metadata": {},
     "output_type": "execute_result"
    }
   ],
   "source": [
    "bank_csv.describe()"
   ]
  },
  {
   "cell_type": "markdown",
   "id": "b5dcc256",
   "metadata": {},
   "source": [
    "Jika dilihat, tidak ada keanehan value pada dataset tersebut dan sudah sesuai dengan logika tiap kolom. Sekarang dataset bisa dilakukan visualisasi dan analisa dengan aman."
   ]
  },
  {
   "cell_type": "markdown",
   "id": "9d0563fc",
   "metadata": {},
   "source": [
    "# Visualization & Analysis Data"
   ]
  },
  {
   "cell_type": "markdown",
   "id": "d9442f98",
   "metadata": {},
   "source": [
    "## Analysis by Job"
   ]
  },
  {
   "cell_type": "markdown",
   "id": "6c0819f0",
   "metadata": {},
   "source": [
    "**Visualization**"
   ]
  },
  {
   "cell_type": "markdown",
   "id": "4482937f",
   "metadata": {},
   "source": [
    "Visualisasi ini akan digunakan untuk mengecek berapa banyak yang membuka deposit berdasarkan bidang pekerjaan, dan juga mengecek berapa banyak rata - rata saldo dan mediannya untuk tiap bidang pekerjaan bagi mereka yang membuka deposit."
   ]
  },
  {
   "cell_type": "code",
   "execution_count": 212,
   "id": "99f6bc32",
   "metadata": {},
   "outputs": [
    {
     "data": {
      "text/plain": [
       "<matplotlib.legend.Legend at 0x1e27dc0c220>"
      ]
     },
     "execution_count": 212,
     "metadata": {},
     "output_type": "execute_result"
    },
    {
     "data": {
      "image/png": "[encoded data removed]",
      "text/plain": [
       "<Figure size 2000x500 with 2 Axes>"
      ]
     },
     "metadata": {},
     "output_type": "display_data"
    }
   ],
   "source": [
    "fig = plt.figure()\n",
    "ax0 = fig.add_subplot(1, 2, 1)\n",
    "ax1 = fig.add_subplot(1, 2, 2)\n",
    "\n",
    "job_yn = pd.DataFrame()\n",
    "job_yn['yes'] = bank_csv[bank_csv['y'] == 'yes']['job'].value_counts()\n",
    "job_yn['no'] = bank_csv[bank_csv['y'] == 'no']['job'].value_counts()\n",
    "job_yn.plot(kind='bar', ax=ax0)\n",
    "\n",
    "job_balance = bank_csv[bank_csv['y'] == 'yes']\n",
    "job_balance = job_balance.pivot_table(\n",
    "    index='job',\n",
    "    values='balance',\n",
    "    aggfunc=[np.mean, np.median]\n",
    ")\n",
    "job_balance.plot(kind='bar', ax=ax1, figsize=(20, 5))\n",
    "plt.legend(['mean', 'median'])"
   ]
  },
  {
   "cell_type": "markdown",
   "id": "dfc32f2a",
   "metadata": {},
   "source": [
    "**Conclusion**"
   ]
  },
  {
   "cell_type": "markdown",
   "id": "6742e516",
   "metadata": {},
   "source": [
    "1. Bidang pekerjaan yang paling banyak diobservasi adalah management dan blue-collar\n",
    "2. Kebanyakan dari mereka, untuk tiap bidang pekerjaan, menolak untuk membuka deposit\n",
    "3. Management yang paling banyak membuka deposit\n",
    "4. Bagi yang membuka deposit, bidang pekerjaan dengan rata - rata saldo dan median tertinggi adalah pada housemaid dan retired"
   ]
  },
  {
   "cell_type": "markdown",
   "id": "2dccf8c5",
   "metadata": {},
   "source": [
    "## Analysis by Marital"
   ]
  },
  {
   "cell_type": "markdown",
   "id": "1126d1ea",
   "metadata": {},
   "source": [
    "**Visualization**"
   ]
  },
  {
   "cell_type": "markdown",
   "id": "ff166e2a",
   "metadata": {},
   "source": [
    "Menggunakan Pie Chart, akan dilihat seberapa banyak yg divorced, married, dan single."
   ]
  },
  {
   "cell_type": "code",
   "execution_count": 213,
   "id": "e0e03441",
   "metadata": {},
   "outputs": [
    {
     "data": {
      "text/plain": [
       "Text(0.5, 1.0, 'Marital Percentage')"
      ]
     },
     "execution_count": 213,
     "metadata": {},
     "output_type": "execute_result"
    },
    {
     "data": {
      "image/png": "[encoded data removed]",
      "text/plain": [
       "<Figure size 640x480 with 1 Axes>"
      ]
     },
     "metadata": {},
     "output_type": "display_data"
    }
   ],
   "source": [
    "bank_csv['marital'].value_counts().plot(kind='pie', autopct='%1.1f%%', labels=None)\n",
    "plt.legend(labels=bank_csv['marital'], loc='upper left')\n",
    "plt.title('Marital Percentage')"
   ]
  },
  {
   "cell_type": "markdown",
   "id": "073f1729",
   "metadata": {},
   "source": [
    "Sama seperti job, disini akan dicek berapa banyak yang membuka deposit berdasarkan marital dan berapa banyak rata - rata balance dan mediannya."
   ]
  },
  {
   "cell_type": "code",
   "execution_count": 214,
   "id": "d4e427f8",
   "metadata": {},
   "outputs": [
    {
     "data": {
      "text/plain": [
       "<matplotlib.legend.Legend at 0x1e27e05f640>"
      ]
     },
     "execution_count": 214,
     "metadata": {},
     "output_type": "execute_result"
    },
    {
     "data": {
      "image/png": "[encoded data removed]",
      "text/plain": [
       "<Figure size 2000x500 with 2 Axes>"
      ]
     },
     "metadata": {},
     "output_type": "display_data"
    }
   ],
   "source": [
    "fig = plt.figure()\n",
    "ax0 = fig.add_subplot(1, 2, 1)\n",
    "ax1 = fig.add_subplot(1, 2, 2)\n",
    "\n",
    "marital_yn = pd.DataFrame()\n",
    "marital_yn['yes'] = bank_csv[bank_csv['y'] == 'yes']['marital'].value_counts()\n",
    "marital_yn['no'] = bank_csv[bank_csv['y'] == 'no']['marital'].value_counts()\n",
    "marital_yn.plot(kind='bar', ax=ax0)\n",
    "\n",
    "marital_balance = bank_csv[bank_csv['y'] == 'yes']\n",
    "marital_balance = marital_balance.pivot_table(\n",
    "    index='marital',\n",
    "    values='balance',\n",
    "    aggfunc=[np.mean, np.median]\n",
    ")\n",
    "marital_balance.plot(kind='bar', ax=ax1, figsize=(20, 5))\n",
    "plt.legend(['mean', 'median'])"
   ]
  },
  {
   "cell_type": "markdown",
   "id": "3da9a878",
   "metadata": {},
   "source": [
    " **Conclusion**"
   ]
  },
  {
   "cell_type": "markdown",
   "id": "536e372c",
   "metadata": {},
   "source": [
    "1. Lebih banyak yang telah married dibandingkan status marital lainnya\n",
    "2. Sama seperti job, rata - rata lebih banyak yang tidak membuka deposit\n",
    "3. Married lebih banyak yang membuka deposit\n",
    "4. Balance married yang tertinggi, sedangkan divorced dan single memiliki nilai yang berdekatan"
   ]
  },
  {
   "cell_type": "markdown",
   "id": "7ddd90b1",
   "metadata": {},
   "source": [
    "## Analysis by Education"
   ]
  },
  {
   "cell_type": "markdown",
   "id": "d8f3d2f6",
   "metadata": {},
   "source": [
    "**Visualization**"
   ]
  },
  {
   "cell_type": "markdown",
   "id": "92ef33ce",
   "metadata": {},
   "source": [
    "Pertama akan dilihat terlebih dahulu hubungan education terhadap marital dan job."
   ]
  },
  {
   "cell_type": "code",
   "execution_count": 215,
   "id": "021f092d",
   "metadata": {},
   "outputs": [
    {
     "data": {
      "text/plain": [
       "<AxesSubplot:>"
      ]
     },
     "execution_count": 215,
     "metadata": {},
     "output_type": "execute_result"
    },
    {
     "data": {
      "image/png": "[encoded data removed]",
      "text/plain": [
       "<Figure size 2000x500 with 2 Axes>"
      ]
     },
     "metadata": {},
     "output_type": "display_data"
    }
   ],
   "source": [
    "fig = plt.figure()\n",
    "ax0 = fig.add_subplot(1, 2, 1)\n",
    "ax1 = fig.add_subplot(1, 2, 2)\n",
    "\n",
    "\n",
    "edu_list = list(bank_csv['education'].unique())\n",
    "\n",
    "edu_job = pd.DataFrame()\n",
    "for edu in edu_list:\n",
    "    edu_job[edu] = bank_csv[bank_csv['education'] == edu]['job'].value_counts()\n",
    "edu_job.plot(kind='bar', ax=ax0)\n",
    "\n",
    "edu_marital = pd.DataFrame()\n",
    "for edu in edu_list:\n",
    "    edu_marital[edu] = bank_csv[bank_csv['education'] == edu]['marital'].value_counts()\n",
    "edu_marital.plot(kind='bar', ax=ax1, figsize=(20, 5))"
   ]
  },
  {
   "cell_type": "markdown",
   "id": "434ec125",
   "metadata": {},
   "source": [
    "**Conclusion**"
   ]
  },
  {
   "cell_type": "markdown",
   "id": "5f7a0a4b",
   "metadata": {},
   "source": [
    "1. Kebanyakan dari mereka di tiap bidang pekerjaan telah menyelesaikan secondary dan tertiary\n",
    "2. Tidak ada perbedaan yang signifikan pada hubungan marital dengan education, hanya berbeda jumlah data yang diobservasi"
   ]
  },
  {
   "cell_type": "markdown",
   "id": "a73cc236",
   "metadata": {},
   "source": [
    "## Correlation"
   ]
  },
  {
   "cell_type": "markdown",
   "id": "4233dcef",
   "metadata": {},
   "source": [
    "**Visualization**"
   ]
  },
  {
   "cell_type": "markdown",
   "id": "a80064de",
   "metadata": {},
   "source": [
    "Bagian ini digunakan untuk melihat korelasi antar kolom."
   ]
  },
  {
   "cell_type": "code",
   "execution_count": null,
   "id": "a58652cb",
   "metadata": {},
   "outputs": [],
   "source": [
    "cat_col_list = bank_csv.columns[bank_csv.dtypes == 'category'].to_list()\n",
    "for col in cat_col_list:\n",
    "    bank_csv[col] = preprocessing.LabelEncoder().fit_transform(bank_csv[col])\n",
    "\n",
    "x = bank_csv.iloc[:, 0:16]\n",
    "y = bank_csv.iloc[:, -1]\n",
    "\n",
    "corrmat = bank_csv.corr()\n",
    "sns.heatmap(bank_csv[corrmat.index].corr(),cmap=\"RdBu_r\")\n",
    "plt.title(\"Correlation Matrix\", fontsize=16)\n",
    "plt.figure(figsize=(20, 20))\n",
    "plt.show()"
   ]
  },
  {
   "cell_type": "markdown",
   "id": "cc1ef9d4",
   "metadata": {},
   "source": [
    "**Conclusion**"
   ]
  },
  {
   "cell_type": "markdown",
   "id": "28569ddb",
   "metadata": {},
   "source": [
    "Dari hasil visualisasi heatmap, kolom duration memiliki korelasi paling kuat terhadap y dibandingkan kolom lainnya."
   ]
  },
  {
   "cell_type": "markdown",
   "id": "5ea87293",
   "metadata": {},
   "source": [
    "## Features Importance"
   ]
  },
  {
   "cell_type": "markdown",
   "id": "6f342675",
   "metadata": {},
   "source": [
    "Bagian ini digunakan untuk melihat kolom yang penting dan paling berpengaruh kepada kolom y."
   ]
  },
  {
   "cell_type": "code",
   "execution_count": null,
   "id": "8d457b8f",
   "metadata": {},
   "outputs": [],
   "source": [
    "model = ExtraTreesClassifier()\n",
    "model.fit(x, y)\n",
    "feat_importances = pd.Series(model.feature_importances_, index=x.columns)\n",
    "feat_importances.nlargest(10).plot(kind='barh')\n",
    "plt.show()"
   ]
  },
  {
   "cell_type": "markdown",
   "id": "44bb1c74",
   "metadata": {},
   "source": [
    "**Conclusion**"
   ]
  },
  {
   "cell_type": "markdown",
   "id": "e6a7809c",
   "metadata": {},
   "source": [
    "Sama seperti correlation, duration paling berpengaruh untuk kolom y. Selain duration, pengaruh paling besar selanjutnya diikuti oleh month, age, day, balance, job."
   ]
  },
  {
   "cell_type": "markdown",
   "id": "49659e5a",
   "metadata": {},
   "source": [
    "# Classification Models"
   ]
  },
  {
   "cell_type": "markdown",
   "id": "8874fa8c",
   "metadata": {},
   "source": [
    "Membuat set train dan test."
   ]
  },
  {
   "cell_type": "code",
   "execution_count": null,
   "id": "e789c22d",
   "metadata": {},
   "outputs": [],
   "source": [
    "x_train, x_test, y_train, y_test = train_test_split(x, y, test_size=0.3, random_state=42)"
   ]
  },
  {
   "cell_type": "markdown",
   "id": "20a4590b",
   "metadata": {},
   "source": [
    "## Logistic Regression"
   ]
  },
  {
   "cell_type": "markdown",
   "id": "dc2ff38d",
   "metadata": {},
   "source": [
    "**Model**"
   ]
  },
  {
   "cell_type": "code",
   "execution_count": null,
   "id": "df961652",
   "metadata": {},
   "outputs": [],
   "source": [
    "model = LogisticRegression(solver='liblinear')\n",
    "model.fit(x_train, y_train)\n",
    "pred_test=model.predict(x_test)"
   ]
  },
  {
   "cell_type": "markdown",
   "id": "f3809c05",
   "metadata": {},
   "source": [
    "**Result**"
   ]
  },
  {
   "cell_type": "code",
   "execution_count": null,
   "id": "2d9a7972",
   "metadata": {},
   "outputs": [],
   "source": [
    "print(\"Accuracy Score :\",accuracy_score(y_test, pred_test),\"\\n\")\n",
    "matrix=confusion_matrix(y_test, pred_test)\n",
    "print(\"Confusion Matrix :\\n\",matrix,\"\\n\")\n",
    "print(\"Classfication Report :\\n\",classification_report(y_test, pred_test))"
   ]
  },
  {
   "cell_type": "markdown",
   "id": "cc2601c0",
   "metadata": {},
   "source": [
    "## K-Nearest Neighbors"
   ]
  },
  {
   "cell_type": "markdown",
   "id": "0d5b54be",
   "metadata": {},
   "source": [
    "**Model**"
   ]
  },
  {
   "cell_type": "code",
   "execution_count": null,
   "id": "7a8e8e5f",
   "metadata": {},
   "outputs": [],
   "source": [
    "model = KNeighborsClassifier()\n",
    "model.fit(x_train, y_train)\n",
    "pred_test=model.predict(x_test)"
   ]
  },
  {
   "cell_type": "markdown",
   "id": "80b510db",
   "metadata": {},
   "source": [
    "**Result**"
   ]
  },
  {
   "cell_type": "code",
   "execution_count": null,
   "id": "a8fbdbfe",
   "metadata": {},
   "outputs": [],
   "source": [
    "print(\"Accuracy Score :\",accuracy_score(y_test, pred_test),\"\\n\")\n",
    "matrix=confusion_matrix(y_test, pred_test)\n",
    "print(\"Confusion Matrix :\\n\",matrix,\"\\n\")\n",
    "print(\"Classfication Report :\\n\",classification_report(y_test, pred_test))"
   ]
  },
  {
   "cell_type": "markdown",
   "id": "1af028ab",
   "metadata": {},
   "source": [
    "## SVM"
   ]
  },
  {
   "cell_type": "markdown",
   "id": "f335d6b5",
   "metadata": {},
   "source": [
    "**Model**"
   ]
  },
  {
   "cell_type": "code",
   "execution_count": null,
   "id": "1d047b72",
   "metadata": {},
   "outputs": [],
   "source": [
    "model = svm.SVC()\n",
    "model.fit(x_train, y_train)\n",
    "pred_test=model.predict(x_test)"
   ]
  },
  {
   "cell_type": "markdown",
   "id": "e0360364",
   "metadata": {},
   "source": [
    "**Result**"
   ]
  },
  {
   "cell_type": "code",
   "execution_count": null,
   "id": "920085ad",
   "metadata": {},
   "outputs": [],
   "source": [
    "print(\"Accuracy Score :\",accuracy_score(y_test, pred_test),\"\\n\")\n",
    "matrix=confusion_matrix(y_test, pred_test)\n",
    "print(\"Confusion Matrix :\\n\",matrix,\"\\n\")\n",
    "print(\"Classfication Report :\\n\",classification_report(y_test, pred_test))"
   ]
  },
  {
   "cell_type": "markdown",
   "id": "d0288ebf",
   "metadata": {},
   "source": [
    "## Decision Tree"
   ]
  },
  {
   "cell_type": "markdown",
   "id": "b7d3645f",
   "metadata": {},
   "source": [
    "**Model**"
   ]
  },
  {
   "cell_type": "code",
   "execution_count": null,
   "id": "a380146a",
   "metadata": {},
   "outputs": [],
   "source": [
    "model = DecisionTreeClassifier()\n",
    "model.fit(x_train, y_train)\n",
    "pred_test=model.predict(x_test)"
   ]
  },
  {
   "cell_type": "markdown",
   "id": "f6d38574",
   "metadata": {},
   "source": [
    "**Result**"
   ]
  },
  {
   "cell_type": "code",
   "execution_count": null,
   "id": "69029cee",
   "metadata": {},
   "outputs": [],
   "source": [
    "print(\"Accuracy Score :\",accuracy_score(y_test, pred_test),\"\\n\")\n",
    "matrix=confusion_matrix(y_test, pred_test)\n",
    "print(\"Confusion Matrix :\\n\",matrix,\"\\n\")\n",
    "print(\"Classfication Report :\\n\",classification_report(y_test, pred_test))"
   ]
  },
  {
   "cell_type": "markdown",
   "id": "201518f8",
   "metadata": {},
   "source": [
    "## Random Forest"
   ]
  },
  {
   "cell_type": "markdown",
   "id": "064f8935",
   "metadata": {},
   "source": [
    "**Model**"
   ]
  },
  {
   "cell_type": "code",
   "execution_count": null,
   "id": "418254ed",
   "metadata": {},
   "outputs": [],
   "source": [
    "model = RandomForestClassifier()\n",
    "model.fit(x_train, y_train)\n",
    "pred_test=model.predict(x_test)"
   ]
  },
  {
   "cell_type": "markdown",
   "id": "ace537f4",
   "metadata": {},
   "source": [
    "**Result**"
   ]
  },
  {
   "cell_type": "code",
   "execution_count": null,
   "id": "c24412c6",
   "metadata": {},
   "outputs": [],
   "source": [
    "print(\"Accuracy Score :\",accuracy_score(y_test, pred_test),\"\\n\")\n",
    "matrix=confusion_matrix(y_test, pred_test)\n",
    "print(\"Confusion Matrix :\\n\",matrix,\"\\n\")\n",
    "print(\"Classfication Report :\\n\",classification_report(y_test, pred_test))"
   ]
  },
  {
   "cell_type": "markdown",
   "id": "4c70ab94",
   "metadata": {},
   "source": [
    "## Naive Bayes"
   ]
  },
  {
   "cell_type": "markdown",
   "id": "e2e4c2f5",
   "metadata": {},
   "source": [
    "**Model**"
   ]
  },
  {
   "cell_type": "code",
   "execution_count": null,
   "id": "6fd6e03e",
   "metadata": {},
   "outputs": [],
   "source": [
    "model = GaussianNB()\n",
    "model.fit(x_train, y_train)\n",
    "pred_test=model.predict(x_test)"
   ]
  },
  {
   "cell_type": "markdown",
   "id": "d1cfb030",
   "metadata": {},
   "source": [
    "**Result**"
   ]
  },
  {
   "cell_type": "code",
   "execution_count": null,
   "id": "f6105754",
   "metadata": {},
   "outputs": [],
   "source": [
    "print(\"Accuracy Score :\",accuracy_score(y_test, pred_test),\"\\n\")\n",
    "matrix=confusion_matrix(y_test, pred_test)\n",
    "print(\"Confusion Matrix :\\n\",matrix,\"\\n\")\n",
    "print(\"Classfication Report :\\n\",classification_report(y_test, pred_test))"
   ]
  },
  {
   "cell_type": "markdown",
   "id": "67e15775",
   "metadata": {},
   "source": [
    "# Algorithm Analysis"
   ]
  },
  {
   "cell_type": "markdown",
   "id": "eb795508",
   "metadata": {},
   "source": [
    "Untuk mengembangkan Machine Learning untuk dataset ini, maka model algoritma yang dipilih adalah Random Forest dikarenakan dari classification reportnya ditunjukkan bahwa akurasinya paling tinggi dibandingkan model algoritma lainnya."
   ]
  },
  {
   "cell_type": "code",
   "execution_count": null,
   "id": "ad05162f",
   "metadata": {},
   "outputs": [],
   "source": []
  }
 ],
 "metadata": {
  "kernelspec": {
   "display_name": "Python 3 (ipykernel)",
   "language": "python",
   "name": "python3"
  },
  "language_info": {
   "codemirror_mode": {
    "name": "ipython",
    "version": 3
   },
   "file_extension": ".py",
   "mimetype": "text/x-python",
   "name": "python",
   "nbconvert_exporter": "python",
   "pygments_lexer": "ipython3",
   "version": "3.9.12"
  },
  "toc": {
   "base_numbering": 1,
   "nav_menu": {},
   "number_sections": true,
   "sideBar": true,
   "skip_h1_title": false,
   "title_cell": "Table of Contents",
   "title_sidebar": "Contents",
   "toc_cell": false,
   "toc_position": {},
   "toc_section_display": true,
   "toc_window_display": false
  }
 },
 "nbformat": 4,
 "nbformat_minor": 5
}
